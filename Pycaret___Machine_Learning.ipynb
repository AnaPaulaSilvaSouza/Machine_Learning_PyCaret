{
  "cells": [
    {
      "cell_type": "markdown",
      "source": [
        "**Machine Learning usando PyCaret**\n",
        "\n",
        "Base de dados foi disponível pelo Ciência dos Dados https://www.youtube.com/c/Ci%C3%AAnciadosDados/featured\n",
        "\n"
      ],
      "metadata": {
        "id": "aklmpQIJGGr0"
      }
    },
    {
      "cell_type": "markdown",
      "metadata": {
        "id": "1OX2D-rLLdiI"
      },
      "source": [
        "![](https://cienciadosdados.com/images/2021/Thumbs/Design_sem_nome_61.png)"
      ]
    },
    {
      "cell_type": "markdown",
      "metadata": {
        "id": "d6xiMZtgZyf8"
      },
      "source": [
        "![](https://miro.medium.com/max/850/1*tNq0zW90xIQXYmftKmXhuw.png)"
      ]
    },
    {
      "cell_type": "markdown",
      "metadata": {
        "id": "YDzbiOmlMkRk"
      },
      "source": [
        "#Oficial\n",
        "https://pycaret.org/create-model/"
      ]
    },
    {
      "cell_type": "markdown",
      "metadata": {
        "id": "Jj7EPJLoLBYG"
      },
      "source": [
        "#Índice\n",
        "\n",
        "1. O que é PyCaret e por que você deve usá-lo?\n",
        "\n",
        "2. Como criar nosso modelo de aprendizado de máquina usando \n",
        "PyCaret \n",
        "\n",
        "3. Construindo modelos de conjunto usando PyCaret\n",
        "\n",
        "4. Vamos analisar nosso modelo!\n",
        "\n",
        "5. É hora de fazer novas previsões\n",
        "\n",
        "6. Salvar e carregar o modelo\n"
      ]
    },
    {
      "cell_type": "markdown",
      "metadata": {
        "id": "XNuZ65hVLztX"
      },
      "source": [
        "**Por que vc deve usá-lo**\n",
        "\n",
        "- Torna você mais produtivo.\n",
        "- Você pode gastar menos tempo codificando e pode fazer mais experimentos\n",
        "- É uma biblioteca de aprendizado de máquina fácil de usar que o ajudará a realizar experimentos completos na construção de Máquinas Preditivas, aprendizado de máquina, seja atribuindo valores ausentes, codificando dados categóricos, engenharia de recursos, ajuste de hiperparâmetros ou criando modelos de conjunto (quer mais? rsrsrs)."
      ]
    },
    {
      "cell_type": "markdown",
      "metadata": {
        "id": "Gyk-r7roL7-I"
      },
      "source": [
        "##Problema de Negócio\n",
        "\n",
        "Temos um conjunto de dados bancários com características como idade do cliente, experiência, renda, escolaridade e se ele possui cartão de crédito ou não.\n",
        "\n",
        "O banco quer construir uma máquina preditiva com aprendizado de máquina que os ajudará a identificar os **clientes em potencial com maior probabilidade de adquirir um empréstimo pessoal.**"
      ]
    },
    {
      "cell_type": "markdown",
      "metadata": {
        "id": "oHSWb89yLim8"
      },
      "source": [
        "**Instalando PyCaret em sua máquina**"
      ]
    },
    {
      "cell_type": "code",
      "execution_count": 1,
      "metadata": {
        "colab": {
          "base_uri": "https://localhost:8080/",
          "height": 1000
        },
        "id": "-DIlcZduDCUl",
        "outputId": "3282d1d6-a8fb-4828-de76-a2e6d6dcf92d"
      },
      "outputs": [
        {
          "output_type": "stream",
          "name": "stdout",
          "text": [
            "Looking in indexes: https://pypi.org/simple, https://us-python.pkg.dev/colab-wheels/public/simple/\n",
            "Collecting pycaret\n",
            "  Downloading pycaret-3.0.0rc2-py3-none-any.whl (538 kB)\n",
            "\u001b[K     |████████████████████████████████| 538 kB 29.0 MB/s \n",
            "\u001b[?25hCollecting statsmodels>=0.12.1\n",
            "  Downloading statsmodels-0.13.2-cp37-cp37m-manylinux_2_17_x86_64.manylinux2014_x86_64.whl (9.8 MB)\n",
            "\u001b[K     |████████████████████████████████| 9.8 MB 53.0 MB/s \n",
            "\u001b[?25hRequirement already satisfied: pandas<1.5.0,>=1.3.0 in /usr/local/lib/python3.7/dist-packages (from pycaret) (1.3.5)\n",
            "Collecting pmdarima>=1.8.0\n",
            "  Downloading pmdarima-1.8.5-cp37-cp37m-manylinux_2_17_x86_64.manylinux2014_x86_64.manylinux_2_24_x86_64.whl (1.4 MB)\n",
            "\u001b[K     |████████████████████████████████| 1.4 MB 71.6 MB/s \n",
            "\u001b[?25hRequirement already satisfied: yellowbrick>=1.4 in /usr/local/lib/python3.7/dist-packages (from pycaret) (1.4)\n",
            "Collecting requests>=2.27.1\n",
            "  Downloading requests-2.28.1-py3-none-any.whl (62 kB)\n",
            "\u001b[K     |████████████████████████████████| 62 kB 1.6 MB/s \n",
            "\u001b[?25hCollecting psutil>=5.9.0\n",
            "  Downloading psutil-5.9.1-cp37-cp37m-manylinux_2_12_x86_64.manylinux2010_x86_64.manylinux_2_17_x86_64.manylinux2014_x86_64.whl (281 kB)\n",
            "\u001b[K     |████████████████████████████████| 281 kB 58.5 MB/s \n",
            "\u001b[?25hCollecting schemdraw>=0.14\n",
            "  Downloading schemdraw-0.15-py3-none-any.whl (106 kB)\n",
            "\u001b[K     |████████████████████████████████| 106 kB 68.0 MB/s \n",
            "\u001b[?25hRequirement already satisfied: imbalanced-learn>=0.8.1 in /usr/local/lib/python3.7/dist-packages (from pycaret) (0.8.1)\n",
            "Requirement already satisfied: joblib>=1.1.0 in /usr/local/lib/python3.7/dist-packages (from pycaret) (1.1.0)\n",
            "Collecting matplotlib>=3.3.0\n",
            "  Downloading matplotlib-3.5.2-cp37-cp37m-manylinux_2_5_x86_64.manylinux1_x86_64.whl (11.2 MB)\n",
            "\u001b[K     |████████████████████████████████| 11.2 MB 46.1 MB/s \n",
            "\u001b[?25hRequirement already satisfied: tqdm in /usr/local/lib/python3.7/dist-packages (from pycaret) (4.64.0)\n",
            "Collecting lightgbm>=3.0.0\n",
            "  Downloading lightgbm-3.3.2-py3-none-manylinux1_x86_64.whl (2.0 MB)\n",
            "\u001b[K     |████████████████████████████████| 2.0 MB 47.2 MB/s \n",
            "\u001b[?25hCollecting pyod>=0.9.8\n",
            "  Downloading pyod-1.0.2.tar.gz (122 kB)\n",
            "\u001b[K     |████████████████████████████████| 122 kB 51.0 MB/s \n",
            "\u001b[?25hRequirement already satisfied: scikit-learn>=1.0 in /usr/local/lib/python3.7/dist-packages (from pycaret) (1.0.2)\n",
            "Requirement already satisfied: numpy~=1.21 in /usr/local/lib/python3.7/dist-packages (from pycaret) (1.21.6)\n",
            "Collecting scikit-plot>=0.3.7\n",
            "  Downloading scikit_plot-0.3.7-py3-none-any.whl (33 kB)\n",
            "Requirement already satisfied: scipy<1.9.0 in /usr/local/lib/python3.7/dist-packages (from pycaret) (1.4.1)\n",
            "Collecting numba~=0.55.0\n",
            "  Downloading numba-0.55.2-cp37-cp37m-manylinux2014_x86_64.manylinux_2_17_x86_64.whl (3.3 MB)\n",
            "\u001b[K     |████████████████████████████████| 3.3 MB 52.8 MB/s \n",
            "\u001b[?25hCollecting category-encoders>=2.4.0\n",
            "  Downloading category_encoders-2.5.0-py2.py3-none-any.whl (69 kB)\n",
            "\u001b[K     |████████████████████████████████| 69 kB 6.9 MB/s \n",
            "\u001b[?25hRequirement already satisfied: ipython>=5.5.0 in /usr/local/lib/python3.7/dist-packages (from pycaret) (5.5.0)\n",
            "Requirement already satisfied: ipywidgets>=7.6.5 in /usr/local/lib/python3.7/dist-packages (from pycaret) (7.7.0)\n",
            "Collecting tbats>=1.1.0\n",
            "  Downloading tbats-1.1.0-py3-none-any.whl (43 kB)\n",
            "\u001b[K     |████████████████████████████████| 43 kB 1.1 MB/s \n",
            "\u001b[?25hRequirement already satisfied: jinja2>=1.2 in /usr/local/lib/python3.7/dist-packages (from pycaret) (2.11.3)\n",
            "Requirement already satisfied: plotly>=5.0.0 in /usr/local/lib/python3.7/dist-packages (from pycaret) (5.5.0)\n",
            "Collecting sktime>=0.11.4\n",
            "  Downloading sktime-0.12.1-py3-none-any.whl (6.8 MB)\n",
            "\u001b[K     |████████████████████████████████| 6.8 MB 37.0 MB/s \n",
            "\u001b[?25hCollecting kaleido>=0.2.1\n",
            "  Downloading kaleido-0.2.1-py2.py3-none-manylinux1_x86_64.whl (79.9 MB)\n",
            "\u001b[K     |████████████████████████████████| 79.9 MB 114 kB/s \n",
            "\u001b[?25hRequirement already satisfied: patsy>=0.5.1 in /usr/local/lib/python3.7/dist-packages (from category-encoders>=2.4.0->pycaret) (0.5.2)\n",
            "Requirement already satisfied: pexpect in /usr/local/lib/python3.7/dist-packages (from ipython>=5.5.0->pycaret) (4.8.0)\n",
            "Requirement already satisfied: prompt-toolkit<2.0.0,>=1.0.4 in /usr/local/lib/python3.7/dist-packages (from ipython>=5.5.0->pycaret) (1.0.18)\n",
            "Requirement already satisfied: setuptools>=18.5 in /usr/local/lib/python3.7/dist-packages (from ipython>=5.5.0->pycaret) (57.4.0)\n",
            "Requirement already satisfied: simplegeneric>0.8 in /usr/local/lib/python3.7/dist-packages (from ipython>=5.5.0->pycaret) (0.8.1)\n",
            "Requirement already satisfied: pygments in /usr/local/lib/python3.7/dist-packages (from ipython>=5.5.0->pycaret) (2.6.1)\n",
            "Requirement already satisfied: decorator in /usr/local/lib/python3.7/dist-packages (from ipython>=5.5.0->pycaret) (4.4.2)\n",
            "Requirement already satisfied: pickleshare in /usr/local/lib/python3.7/dist-packages (from ipython>=5.5.0->pycaret) (0.7.5)\n",
            "Requirement already satisfied: traitlets>=4.2 in /usr/local/lib/python3.7/dist-packages (from ipython>=5.5.0->pycaret) (5.1.1)\n",
            "Requirement already satisfied: jupyterlab-widgets>=1.0.0 in /usr/local/lib/python3.7/dist-packages (from ipywidgets>=7.6.5->pycaret) (1.1.0)\n",
            "Requirement already satisfied: widgetsnbextension~=3.6.0 in /usr/local/lib/python3.7/dist-packages (from ipywidgets>=7.6.5->pycaret) (3.6.0)\n",
            "Requirement already satisfied: nbformat>=4.2.0 in /usr/local/lib/python3.7/dist-packages (from ipywidgets>=7.6.5->pycaret) (5.4.0)\n",
            "Requirement already satisfied: ipython-genutils~=0.2.0 in /usr/local/lib/python3.7/dist-packages (from ipywidgets>=7.6.5->pycaret) (0.2.0)\n",
            "Requirement already satisfied: ipykernel>=4.5.1 in /usr/local/lib/python3.7/dist-packages (from ipywidgets>=7.6.5->pycaret) (4.10.1)\n",
            "Requirement already satisfied: tornado>=4.0 in /usr/local/lib/python3.7/dist-packages (from ipykernel>=4.5.1->ipywidgets>=7.6.5->pycaret) (5.1.1)\n",
            "Requirement already satisfied: jupyter-client in /usr/local/lib/python3.7/dist-packages (from ipykernel>=4.5.1->ipywidgets>=7.6.5->pycaret) (5.3.5)\n",
            "Requirement already satisfied: MarkupSafe>=0.23 in /usr/local/lib/python3.7/dist-packages (from jinja2>=1.2->pycaret) (2.0.1)\n",
            "Requirement already satisfied: wheel in /usr/local/lib/python3.7/dist-packages (from lightgbm>=3.0.0->pycaret) (0.37.1)\n",
            "Requirement already satisfied: pyparsing>=2.2.1 in /usr/local/lib/python3.7/dist-packages (from matplotlib>=3.3.0->pycaret) (3.0.9)\n",
            "Requirement already satisfied: kiwisolver>=1.0.1 in /usr/local/lib/python3.7/dist-packages (from matplotlib>=3.3.0->pycaret) (1.4.3)\n",
            "Requirement already satisfied: packaging>=20.0 in /usr/local/lib/python3.7/dist-packages (from matplotlib>=3.3.0->pycaret) (21.3)\n",
            "Requirement already satisfied: pillow>=6.2.0 in /usr/local/lib/python3.7/dist-packages (from matplotlib>=3.3.0->pycaret) (7.1.2)\n",
            "Requirement already satisfied: python-dateutil>=2.7 in /usr/local/lib/python3.7/dist-packages (from matplotlib>=3.3.0->pycaret) (2.8.2)\n",
            "Collecting fonttools>=4.22.0\n",
            "  Downloading fonttools-4.33.3-py3-none-any.whl (930 kB)\n",
            "\u001b[K     |████████████████████████████████| 930 kB 42.4 MB/s \n",
            "\u001b[?25hRequirement already satisfied: cycler>=0.10 in /usr/local/lib/python3.7/dist-packages (from matplotlib>=3.3.0->pycaret) (0.11.0)\n",
            "Requirement already satisfied: typing-extensions in /usr/local/lib/python3.7/dist-packages (from kiwisolver>=1.0.1->matplotlib>=3.3.0->pycaret) (4.1.1)\n",
            "Requirement already satisfied: jupyter-core in /usr/local/lib/python3.7/dist-packages (from nbformat>=4.2.0->ipywidgets>=7.6.5->pycaret) (4.10.0)\n",
            "Requirement already satisfied: fastjsonschema in /usr/local/lib/python3.7/dist-packages (from nbformat>=4.2.0->ipywidgets>=7.6.5->pycaret) (2.15.3)\n",
            "Requirement already satisfied: jsonschema>=2.6 in /usr/local/lib/python3.7/dist-packages (from nbformat>=4.2.0->ipywidgets>=7.6.5->pycaret) (4.3.3)\n",
            "Requirement already satisfied: importlib-resources>=1.4.0 in /usr/local/lib/python3.7/dist-packages (from jsonschema>=2.6->nbformat>=4.2.0->ipywidgets>=7.6.5->pycaret) (5.7.1)\n",
            "Requirement already satisfied: attrs>=17.4.0 in /usr/local/lib/python3.7/dist-packages (from jsonschema>=2.6->nbformat>=4.2.0->ipywidgets>=7.6.5->pycaret) (21.4.0)\n",
            "Requirement already satisfied: importlib-metadata in /usr/local/lib/python3.7/dist-packages (from jsonschema>=2.6->nbformat>=4.2.0->ipywidgets>=7.6.5->pycaret) (4.11.4)\n",
            "Requirement already satisfied: pyrsistent!=0.17.0,!=0.17.1,!=0.17.2,>=0.14.0 in /usr/local/lib/python3.7/dist-packages (from jsonschema>=2.6->nbformat>=4.2.0->ipywidgets>=7.6.5->pycaret) (0.18.1)\n",
            "Requirement already satisfied: zipp>=3.1.0 in /usr/local/lib/python3.7/dist-packages (from importlib-resources>=1.4.0->jsonschema>=2.6->nbformat>=4.2.0->ipywidgets>=7.6.5->pycaret) (3.8.0)\n",
            "Collecting llvmlite<0.39,>=0.38.0rc1\n",
            "  Downloading llvmlite-0.38.1-cp37-cp37m-manylinux_2_17_x86_64.manylinux2014_x86_64.whl (34.5 MB)\n",
            "\u001b[K     |████████████████████████████████| 34.5 MB 31.5 MB/s \n",
            "\u001b[?25hRequirement already satisfied: pytz>=2017.3 in /usr/local/lib/python3.7/dist-packages (from pandas<1.5.0,>=1.3.0->pycaret) (2022.1)\n",
            "Requirement already satisfied: six in /usr/local/lib/python3.7/dist-packages (from patsy>=0.5.1->category-encoders>=2.4.0->pycaret) (1.15.0)\n",
            "Requirement already satisfied: tenacity>=6.2.0 in /usr/local/lib/python3.7/dist-packages (from plotly>=5.0.0->pycaret) (8.0.1)\n",
            "Requirement already satisfied: Cython!=0.29.18,>=0.29 in /usr/local/lib/python3.7/dist-packages (from pmdarima>=1.8.0->pycaret) (0.29.30)\n",
            "Requirement already satisfied: urllib3 in /usr/local/lib/python3.7/dist-packages (from pmdarima>=1.8.0->pycaret) (1.24.3)\n",
            "Requirement already satisfied: wcwidth in /usr/local/lib/python3.7/dist-packages (from prompt-toolkit<2.0.0,>=1.0.4->ipython>=5.5.0->pycaret) (0.2.5)\n",
            "Collecting scipy<1.9.0\n",
            "  Downloading scipy-1.7.3-cp37-cp37m-manylinux_2_12_x86_64.manylinux2010_x86_64.whl (38.1 MB)\n",
            "\u001b[K     |████████████████████████████████| 38.1 MB 1.2 MB/s \n",
            "\u001b[?25hRequirement already satisfied: idna<4,>=2.5 in /usr/local/lib/python3.7/dist-packages (from requests>=2.27.1->pycaret) (2.10)\n",
            "Requirement already satisfied: charset-normalizer<3,>=2 in /usr/local/lib/python3.7/dist-packages (from requests>=2.27.1->pycaret) (2.0.12)\n",
            "Requirement already satisfied: certifi>=2017.4.17 in /usr/local/lib/python3.7/dist-packages (from requests>=2.27.1->pycaret) (2022.6.15)\n",
            "Requirement already satisfied: threadpoolctl>=2.0.0 in /usr/local/lib/python3.7/dist-packages (from scikit-learn>=1.0->pycaret) (3.1.0)\n",
            "Collecting deprecated>=1.2.13\n",
            "  Downloading Deprecated-1.2.13-py2.py3-none-any.whl (9.6 kB)\n",
            "Requirement already satisfied: wrapt<2,>=1.10 in /usr/local/lib/python3.7/dist-packages (from deprecated>=1.2.13->sktime>=0.11.4->pycaret) (1.14.1)\n",
            "Requirement already satisfied: notebook>=4.4.1 in /usr/local/lib/python3.7/dist-packages (from widgetsnbextension~=3.6.0->ipywidgets>=7.6.5->pycaret) (5.3.1)\n",
            "Requirement already satisfied: terminado>=0.8.1 in /usr/local/lib/python3.7/dist-packages (from notebook>=4.4.1->widgetsnbextension~=3.6.0->ipywidgets>=7.6.5->pycaret) (0.13.3)\n",
            "Requirement already satisfied: Send2Trash in /usr/local/lib/python3.7/dist-packages (from notebook>=4.4.1->widgetsnbextension~=3.6.0->ipywidgets>=7.6.5->pycaret) (1.8.0)\n",
            "Requirement already satisfied: nbconvert in /usr/local/lib/python3.7/dist-packages (from notebook>=4.4.1->widgetsnbextension~=3.6.0->ipywidgets>=7.6.5->pycaret) (5.6.1)\n",
            "Requirement already satisfied: pyzmq>=13 in /usr/local/lib/python3.7/dist-packages (from jupyter-client->ipykernel>=4.5.1->ipywidgets>=7.6.5->pycaret) (23.1.0)\n",
            "Requirement already satisfied: ptyprocess in /usr/local/lib/python3.7/dist-packages (from terminado>=0.8.1->notebook>=4.4.1->widgetsnbextension~=3.6.0->ipywidgets>=7.6.5->pycaret) (0.7.0)\n",
            "Requirement already satisfied: pandocfilters>=1.4.1 in /usr/local/lib/python3.7/dist-packages (from nbconvert->notebook>=4.4.1->widgetsnbextension~=3.6.0->ipywidgets>=7.6.5->pycaret) (1.5.0)\n",
            "Requirement already satisfied: mistune<2,>=0.8.1 in /usr/local/lib/python3.7/dist-packages (from nbconvert->notebook>=4.4.1->widgetsnbextension~=3.6.0->ipywidgets>=7.6.5->pycaret) (0.8.4)\n",
            "Requirement already satisfied: defusedxml in /usr/local/lib/python3.7/dist-packages (from nbconvert->notebook>=4.4.1->widgetsnbextension~=3.6.0->ipywidgets>=7.6.5->pycaret) (0.7.1)\n",
            "Requirement already satisfied: testpath in /usr/local/lib/python3.7/dist-packages (from nbconvert->notebook>=4.4.1->widgetsnbextension~=3.6.0->ipywidgets>=7.6.5->pycaret) (0.6.0)\n",
            "Requirement already satisfied: entrypoints>=0.2.2 in /usr/local/lib/python3.7/dist-packages (from nbconvert->notebook>=4.4.1->widgetsnbextension~=3.6.0->ipywidgets>=7.6.5->pycaret) (0.4)\n",
            "Requirement already satisfied: bleach in /usr/local/lib/python3.7/dist-packages (from nbconvert->notebook>=4.4.1->widgetsnbextension~=3.6.0->ipywidgets>=7.6.5->pycaret) (5.0.0)\n",
            "Requirement already satisfied: webencodings in /usr/local/lib/python3.7/dist-packages (from bleach->nbconvert->notebook>=4.4.1->widgetsnbextension~=3.6.0->ipywidgets>=7.6.5->pycaret) (0.5.1)\n",
            "Building wheels for collected packages: pyod\n",
            "  Building wheel for pyod (setup.py) ... \u001b[?25l\u001b[?25hdone\n",
            "  Created wheel for pyod: filename=pyod-1.0.2-py3-none-any.whl size=150272 sha256=b0ad487509823a8f280e6cb7b5c7c0ffec161814f7a778a2c79f28d63a7b8a4e\n",
            "  Stored in directory: /root/.cache/pip/wheels/e6/8f/06/5512935ed3c79659f612e8bb8f43cb51dd47c21973e0230997\n",
            "Successfully built pyod\n",
            "Installing collected packages: scipy, statsmodels, llvmlite, fonttools, pmdarima, numba, matplotlib, deprecated, tbats, sktime, scikit-plot, schemdraw, requests, pyod, psutil, lightgbm, kaleido, category-encoders, pycaret\n",
            "  Attempting uninstall: scipy\n",
            "    Found existing installation: scipy 1.4.1\n",
            "    Uninstalling scipy-1.4.1:\n",
            "      Successfully uninstalled scipy-1.4.1\n",
            "  Attempting uninstall: statsmodels\n",
            "    Found existing installation: statsmodels 0.10.2\n",
            "    Uninstalling statsmodels-0.10.2:\n",
            "      Successfully uninstalled statsmodels-0.10.2\n",
            "  Attempting uninstall: llvmlite\n",
            "    Found existing installation: llvmlite 0.34.0\n",
            "    Uninstalling llvmlite-0.34.0:\n",
            "      Successfully uninstalled llvmlite-0.34.0\n",
            "  Attempting uninstall: numba\n",
            "    Found existing installation: numba 0.51.2\n",
            "    Uninstalling numba-0.51.2:\n",
            "      Successfully uninstalled numba-0.51.2\n",
            "  Attempting uninstall: matplotlib\n",
            "    Found existing installation: matplotlib 3.2.2\n",
            "    Uninstalling matplotlib-3.2.2:\n",
            "      Successfully uninstalled matplotlib-3.2.2\n",
            "  Attempting uninstall: requests\n",
            "    Found existing installation: requests 2.23.0\n",
            "    Uninstalling requests-2.23.0:\n",
            "      Successfully uninstalled requests-2.23.0\n",
            "  Attempting uninstall: psutil\n",
            "    Found existing installation: psutil 5.4.8\n",
            "    Uninstalling psutil-5.4.8:\n",
            "      Successfully uninstalled psutil-5.4.8\n",
            "  Attempting uninstall: lightgbm\n",
            "    Found existing installation: lightgbm 2.2.3\n",
            "    Uninstalling lightgbm-2.2.3:\n",
            "      Successfully uninstalled lightgbm-2.2.3\n",
            "\u001b[31mERROR: pip's dependency resolver does not currently take into account all the packages that are installed. This behaviour is the source of the following dependency conflicts.\n",
            "google-colab 1.0.0 requires requests~=2.23.0, but you have requests 2.28.1 which is incompatible.\n",
            "datascience 0.10.6 requires folium==0.2.1, but you have folium 0.8.3 which is incompatible.\n",
            "albumentations 0.1.12 requires imgaug<0.2.7,>=0.2.5, but you have imgaug 0.2.9 which is incompatible.\u001b[0m\n",
            "Successfully installed category-encoders-2.5.0 deprecated-1.2.13 fonttools-4.33.3 kaleido-0.2.1 lightgbm-3.3.2 llvmlite-0.38.1 matplotlib-3.5.2 numba-0.55.2 pmdarima-1.8.5 psutil-5.9.1 pycaret-3.0.0rc2 pyod-1.0.2 requests-2.28.1 schemdraw-0.15 scikit-plot-0.3.7 scipy-1.7.3 sktime-0.12.1 statsmodels-0.13.2 tbats-1.1.0\n"
          ]
        },
        {
          "output_type": "display_data",
          "data": {
            "application/vnd.colab-display-data+json": {
              "pip_warning": {
                "packages": [
                  "matplotlib",
                  "mpl_toolkits",
                  "psutil"
                ]
              }
            }
          },
          "metadata": {}
        },
        {
          "output_type": "stream",
          "name": "stdout",
          "text": [
            "Looking in indexes: https://pypi.org/simple, https://us-python.pkg.dev/colab-wheels/public/simple/\n",
            "Collecting shap\n",
            "  Downloading shap-0.41.0-cp37-cp37m-manylinux_2_12_x86_64.manylinux2010_x86_64.whl (569 kB)\n",
            "\u001b[K     |████████████████████████████████| 569 kB 34.4 MB/s \n",
            "\u001b[?25hRequirement already satisfied: numpy in /usr/local/lib/python3.7/dist-packages (from shap) (1.21.6)\n",
            "Requirement already satisfied: cloudpickle in /usr/local/lib/python3.7/dist-packages (from shap) (1.3.0)\n",
            "Requirement already satisfied: scikit-learn in /usr/local/lib/python3.7/dist-packages (from shap) (1.0.2)\n",
            "Requirement already satisfied: scipy in /usr/local/lib/python3.7/dist-packages (from shap) (1.7.3)\n",
            "Requirement already satisfied: packaging>20.9 in /usr/local/lib/python3.7/dist-packages (from shap) (21.3)\n",
            "Requirement already satisfied: tqdm>4.25.0 in /usr/local/lib/python3.7/dist-packages (from shap) (4.64.0)\n",
            "Collecting slicer==0.0.7\n",
            "  Downloading slicer-0.0.7-py3-none-any.whl (14 kB)\n",
            "Requirement already satisfied: numba in /usr/local/lib/python3.7/dist-packages (from shap) (0.55.2)\n",
            "Requirement already satisfied: pandas in /usr/local/lib/python3.7/dist-packages (from shap) (1.3.5)\n",
            "Requirement already satisfied: pyparsing!=3.0.5,>=2.0.2 in /usr/local/lib/python3.7/dist-packages (from packaging>20.9->shap) (3.0.9)\n",
            "Requirement already satisfied: llvmlite<0.39,>=0.38.0rc1 in /usr/local/lib/python3.7/dist-packages (from numba->shap) (0.38.1)\n",
            "Requirement already satisfied: setuptools in /usr/local/lib/python3.7/dist-packages (from numba->shap) (57.4.0)\n",
            "Requirement already satisfied: python-dateutil>=2.7.3 in /usr/local/lib/python3.7/dist-packages (from pandas->shap) (2.8.2)\n",
            "Requirement already satisfied: pytz>=2017.3 in /usr/local/lib/python3.7/dist-packages (from pandas->shap) (2022.1)\n",
            "Requirement already satisfied: six>=1.5 in /usr/local/lib/python3.7/dist-packages (from python-dateutil>=2.7.3->pandas->shap) (1.15.0)\n",
            "Requirement already satisfied: threadpoolctl>=2.0.0 in /usr/local/lib/python3.7/dist-packages (from scikit-learn->shap) (3.1.0)\n",
            "Requirement already satisfied: joblib>=0.11 in /usr/local/lib/python3.7/dist-packages (from scikit-learn->shap) (1.1.0)\n",
            "Installing collected packages: slicer, shap\n",
            "Successfully installed shap-0.41.0 slicer-0.0.7\n",
            "Looking in indexes: https://pypi.org/simple, https://us-python.pkg.dev/colab-wheels/public/simple/\n",
            "Collecting matplotlib==3.1.3\n",
            "  Downloading matplotlib-3.1.3-cp37-cp37m-manylinux1_x86_64.whl (13.1 MB)\n",
            "\u001b[K     |████████████████████████████████| 13.1 MB 8.5 MB/s \n",
            "\u001b[?25hRequirement already satisfied: pyparsing!=2.0.4,!=2.1.2,!=2.1.6,>=2.0.1 in /usr/local/lib/python3.7/dist-packages (from matplotlib==3.1.3) (3.0.9)\n",
            "Requirement already satisfied: kiwisolver>=1.0.1 in /usr/local/lib/python3.7/dist-packages (from matplotlib==3.1.3) (1.4.3)\n",
            "Requirement already satisfied: numpy>=1.11 in /usr/local/lib/python3.7/dist-packages (from matplotlib==3.1.3) (1.21.6)\n",
            "Requirement already satisfied: python-dateutil>=2.1 in /usr/local/lib/python3.7/dist-packages (from matplotlib==3.1.3) (2.8.2)\n",
            "Requirement already satisfied: cycler>=0.10 in /usr/local/lib/python3.7/dist-packages (from matplotlib==3.1.3) (0.11.0)\n",
            "Requirement already satisfied: typing-extensions in /usr/local/lib/python3.7/dist-packages (from kiwisolver>=1.0.1->matplotlib==3.1.3) (4.1.1)\n",
            "Requirement already satisfied: six>=1.5 in /usr/local/lib/python3.7/dist-packages (from python-dateutil>=2.1->matplotlib==3.1.3) (1.15.0)\n",
            "Installing collected packages: matplotlib\n",
            "  Attempting uninstall: matplotlib\n",
            "    Found existing installation: matplotlib 3.5.2\n",
            "    Uninstalling matplotlib-3.5.2:\n",
            "      Successfully uninstalled matplotlib-3.5.2\n",
            "\u001b[31mERROR: pip's dependency resolver does not currently take into account all the packages that are installed. This behaviour is the source of the following dependency conflicts.\n",
            "pycaret 3.0.0rc2 requires matplotlib>=3.3.0, but you have matplotlib 3.1.3 which is incompatible.\n",
            "albumentations 0.1.12 requires imgaug<0.2.7,>=0.2.5, but you have imgaug 0.2.9 which is incompatible.\u001b[0m\n",
            "Successfully installed matplotlib-3.1.3\n"
          ]
        },
        {
          "output_type": "display_data",
          "data": {
            "application/vnd.colab-display-data+json": {
              "pip_warning": {
                "packages": [
                  "matplotlib",
                  "mpl_toolkits"
                ]
              }
            }
          },
          "metadata": {}
        }
      ],
      "source": [
        "!pip install --pre pycaret\n",
        "!pip install shap #melhor interpretabilidade\n",
        "!pip install matplotlib==3.1.3"
      ]
    },
    {
      "cell_type": "code",
      "execution_count": 2,
      "metadata": {
        "colab": {
          "base_uri": "https://localhost:8080/",
          "height": 206
        },
        "id": "gfES4JonDM6T",
        "outputId": "d6f51e14-bd50-4a37-abc2-c849b30d2785"
      },
      "outputs": [
        {
          "output_type": "execute_result",
          "data": {
            "text/plain": [
              "     ID  Age  Experience  Income  ZIP Code  Family  CCAvg  Education  \\\n",
              "0  3510   38          12      61     91330       3    0.9          3   \n",
              "1  1129   30           5     171     94025       2    1.9          2   \n",
              "2  1637   65          39     100     92122       4    1.7          3   \n",
              "3  3165   28           4      82     95136       4    0.0          1   \n",
              "4  3563   32           8     169     94596       1    6.5          3   \n",
              "\n",
              "   Mortgage  Personal Loan  Securities Account  CD Account  Online  CreditCard  \n",
              "0         0              0                   0           0       0           0  \n",
              "1         0              1                   0           0       0           0  \n",
              "2         0              0                   0           0       0           1  \n",
              "3         0              0                   0           0       1           1  \n",
              "4       272              1                   1           1       1           0  "
            ],
            "text/html": [
              "\n",
              "  <div id=\"df-9952cbc4-e4d9-4aba-8b46-3d1f95d02b38\">\n",
              "    <div class=\"colab-df-container\">\n",
              "      <div>\n",
              "<style scoped>\n",
              "    .dataframe tbody tr th:only-of-type {\n",
              "        vertical-align: middle;\n",
              "    }\n",
              "\n",
              "    .dataframe tbody tr th {\n",
              "        vertical-align: top;\n",
              "    }\n",
              "\n",
              "    .dataframe thead th {\n",
              "        text-align: right;\n",
              "    }\n",
              "</style>\n",
              "<table border=\"1\" class=\"dataframe\">\n",
              "  <thead>\n",
              "    <tr style=\"text-align: right;\">\n",
              "      <th></th>\n",
              "      <th>ID</th>\n",
              "      <th>Age</th>\n",
              "      <th>Experience</th>\n",
              "      <th>Income</th>\n",
              "      <th>ZIP Code</th>\n",
              "      <th>Family</th>\n",
              "      <th>CCAvg</th>\n",
              "      <th>Education</th>\n",
              "      <th>Mortgage</th>\n",
              "      <th>Personal Loan</th>\n",
              "      <th>Securities Account</th>\n",
              "      <th>CD Account</th>\n",
              "      <th>Online</th>\n",
              "      <th>CreditCard</th>\n",
              "    </tr>\n",
              "  </thead>\n",
              "  <tbody>\n",
              "    <tr>\n",
              "      <th>0</th>\n",
              "      <td>3510</td>\n",
              "      <td>38</td>\n",
              "      <td>12</td>\n",
              "      <td>61</td>\n",
              "      <td>91330</td>\n",
              "      <td>3</td>\n",
              "      <td>0.9</td>\n",
              "      <td>3</td>\n",
              "      <td>0</td>\n",
              "      <td>0</td>\n",
              "      <td>0</td>\n",
              "      <td>0</td>\n",
              "      <td>0</td>\n",
              "      <td>0</td>\n",
              "    </tr>\n",
              "    <tr>\n",
              "      <th>1</th>\n",
              "      <td>1129</td>\n",
              "      <td>30</td>\n",
              "      <td>5</td>\n",
              "      <td>171</td>\n",
              "      <td>94025</td>\n",
              "      <td>2</td>\n",
              "      <td>1.9</td>\n",
              "      <td>2</td>\n",
              "      <td>0</td>\n",
              "      <td>1</td>\n",
              "      <td>0</td>\n",
              "      <td>0</td>\n",
              "      <td>0</td>\n",
              "      <td>0</td>\n",
              "    </tr>\n",
              "    <tr>\n",
              "      <th>2</th>\n",
              "      <td>1637</td>\n",
              "      <td>65</td>\n",
              "      <td>39</td>\n",
              "      <td>100</td>\n",
              "      <td>92122</td>\n",
              "      <td>4</td>\n",
              "      <td>1.7</td>\n",
              "      <td>3</td>\n",
              "      <td>0</td>\n",
              "      <td>0</td>\n",
              "      <td>0</td>\n",
              "      <td>0</td>\n",
              "      <td>0</td>\n",
              "      <td>1</td>\n",
              "    </tr>\n",
              "    <tr>\n",
              "      <th>3</th>\n",
              "      <td>3165</td>\n",
              "      <td>28</td>\n",
              "      <td>4</td>\n",
              "      <td>82</td>\n",
              "      <td>95136</td>\n",
              "      <td>4</td>\n",
              "      <td>0.0</td>\n",
              "      <td>1</td>\n",
              "      <td>0</td>\n",
              "      <td>0</td>\n",
              "      <td>0</td>\n",
              "      <td>0</td>\n",
              "      <td>1</td>\n",
              "      <td>1</td>\n",
              "    </tr>\n",
              "    <tr>\n",
              "      <th>4</th>\n",
              "      <td>3563</td>\n",
              "      <td>32</td>\n",
              "      <td>8</td>\n",
              "      <td>169</td>\n",
              "      <td>94596</td>\n",
              "      <td>1</td>\n",
              "      <td>6.5</td>\n",
              "      <td>3</td>\n",
              "      <td>272</td>\n",
              "      <td>1</td>\n",
              "      <td>1</td>\n",
              "      <td>1</td>\n",
              "      <td>1</td>\n",
              "      <td>0</td>\n",
              "    </tr>\n",
              "  </tbody>\n",
              "</table>\n",
              "</div>\n",
              "      <button class=\"colab-df-convert\" onclick=\"convertToInteractive('df-9952cbc4-e4d9-4aba-8b46-3d1f95d02b38')\"\n",
              "              title=\"Convert this dataframe to an interactive table.\"\n",
              "              style=\"display:none;\">\n",
              "        \n",
              "  <svg xmlns=\"http://www.w3.org/2000/svg\" height=\"24px\"viewBox=\"0 0 24 24\"\n",
              "       width=\"24px\">\n",
              "    <path d=\"M0 0h24v24H0V0z\" fill=\"none\"/>\n",
              "    <path d=\"M18.56 5.44l.94 2.06.94-2.06 2.06-.94-2.06-.94-.94-2.06-.94 2.06-2.06.94zm-11 1L8.5 8.5l.94-2.06 2.06-.94-2.06-.94L8.5 2.5l-.94 2.06-2.06.94zm10 10l.94 2.06.94-2.06 2.06-.94-2.06-.94-.94-2.06-.94 2.06-2.06.94z\"/><path d=\"M17.41 7.96l-1.37-1.37c-.4-.4-.92-.59-1.43-.59-.52 0-1.04.2-1.43.59L10.3 9.45l-7.72 7.72c-.78.78-.78 2.05 0 2.83L4 21.41c.39.39.9.59 1.41.59.51 0 1.02-.2 1.41-.59l7.78-7.78 2.81-2.81c.8-.78.8-2.07 0-2.86zM5.41 20L4 18.59l7.72-7.72 1.47 1.35L5.41 20z\"/>\n",
              "  </svg>\n",
              "      </button>\n",
              "      \n",
              "  <style>\n",
              "    .colab-df-container {\n",
              "      display:flex;\n",
              "      flex-wrap:wrap;\n",
              "      gap: 12px;\n",
              "    }\n",
              "\n",
              "    .colab-df-convert {\n",
              "      background-color: #E8F0FE;\n",
              "      border: none;\n",
              "      border-radius: 50%;\n",
              "      cursor: pointer;\n",
              "      display: none;\n",
              "      fill: #1967D2;\n",
              "      height: 32px;\n",
              "      padding: 0 0 0 0;\n",
              "      width: 32px;\n",
              "    }\n",
              "\n",
              "    .colab-df-convert:hover {\n",
              "      background-color: #E2EBFA;\n",
              "      box-shadow: 0px 1px 2px rgba(60, 64, 67, 0.3), 0px 1px 3px 1px rgba(60, 64, 67, 0.15);\n",
              "      fill: #174EA6;\n",
              "    }\n",
              "\n",
              "    [theme=dark] .colab-df-convert {\n",
              "      background-color: #3B4455;\n",
              "      fill: #D2E3FC;\n",
              "    }\n",
              "\n",
              "    [theme=dark] .colab-df-convert:hover {\n",
              "      background-color: #434B5C;\n",
              "      box-shadow: 0px 1px 3px 1px rgba(0, 0, 0, 0.15);\n",
              "      filter: drop-shadow(0px 1px 2px rgba(0, 0, 0, 0.3));\n",
              "      fill: #FFFFFF;\n",
              "    }\n",
              "  </style>\n",
              "\n",
              "      <script>\n",
              "        const buttonEl =\n",
              "          document.querySelector('#df-9952cbc4-e4d9-4aba-8b46-3d1f95d02b38 button.colab-df-convert');\n",
              "        buttonEl.style.display =\n",
              "          google.colab.kernel.accessAllowed ? 'block' : 'none';\n",
              "\n",
              "        async function convertToInteractive(key) {\n",
              "          const element = document.querySelector('#df-9952cbc4-e4d9-4aba-8b46-3d1f95d02b38');\n",
              "          const dataTable =\n",
              "            await google.colab.kernel.invokeFunction('convertToInteractive',\n",
              "                                                     [key], {});\n",
              "          if (!dataTable) return;\n",
              "\n",
              "          const docLinkHtml = 'Like what you see? Visit the ' +\n",
              "            '<a target=\"_blank\" href=https://colab.research.google.com/notebooks/data_table.ipynb>data table notebook</a>'\n",
              "            + ' to learn more about interactive tables.';\n",
              "          element.innerHTML = '';\n",
              "          dataTable['output_type'] = 'display_data';\n",
              "          await google.colab.output.renderOutput(dataTable, element);\n",
              "          const docLink = document.createElement('div');\n",
              "          docLink.innerHTML = docLinkHtml;\n",
              "          element.appendChild(docLink);\n",
              "        }\n",
              "      </script>\n",
              "    </div>\n",
              "  </div>\n",
              "  "
            ]
          },
          "metadata": {},
          "execution_count": 2
        }
      ],
      "source": [
        "# importing pandas to read the CSV file\n",
        "import pandas as pd\n",
        "# read the data\n",
        "data_classification = pd.read_csv('https://raw.githubusercontent.com/lakshay-arora/PyCaret-Example/master/datasets/loan_train_data.csv')\n",
        "# view the top rows of the data\n",
        "data_classification.head()"
      ]
    },
    {
      "cell_type": "code",
      "execution_count": 3,
      "metadata": {
        "colab": {
          "base_uri": "https://localhost:8080/",
          "height": 206
        },
        "id": "m2QW7EOshrsI",
        "outputId": "75fe3766-ffe3-4dfe-8e96-a5f2bb71df15"
      },
      "outputs": [
        {
          "output_type": "execute_result",
          "data": {
            "text/plain": [
              "     ID  Age  Experience  Income  ZIP Code  Family  CCAvg  Education  \\\n",
              "0  3510   38          12      61     91330       3    0.9          3   \n",
              "1  1129   30           5     171     94025       2    1.9          2   \n",
              "2  1637   65          39     100     92122       4    1.7          3   \n",
              "3  3165   28           4      82     95136       4    0.0          1   \n",
              "4  3563   32           8     169     94596       1    6.5          3   \n",
              "\n",
              "   Mortgage  Personal Loan  Securities Account  CD Account  Online  CreditCard  \n",
              "0         0              0                   0           0       0           0  \n",
              "1         0              1                   0           0       0           0  \n",
              "2         0              0                   0           0       0           1  \n",
              "3         0              0                   0           0       1           1  \n",
              "4       272              1                   1           1       1           0  "
            ],
            "text/html": [
              "\n",
              "  <div id=\"df-4d95e0a7-1fbd-40ed-9812-2b3b0b687504\">\n",
              "    <div class=\"colab-df-container\">\n",
              "      <div>\n",
              "<style scoped>\n",
              "    .dataframe tbody tr th:only-of-type {\n",
              "        vertical-align: middle;\n",
              "    }\n",
              "\n",
              "    .dataframe tbody tr th {\n",
              "        vertical-align: top;\n",
              "    }\n",
              "\n",
              "    .dataframe thead th {\n",
              "        text-align: right;\n",
              "    }\n",
              "</style>\n",
              "<table border=\"1\" class=\"dataframe\">\n",
              "  <thead>\n",
              "    <tr style=\"text-align: right;\">\n",
              "      <th></th>\n",
              "      <th>ID</th>\n",
              "      <th>Age</th>\n",
              "      <th>Experience</th>\n",
              "      <th>Income</th>\n",
              "      <th>ZIP Code</th>\n",
              "      <th>Family</th>\n",
              "      <th>CCAvg</th>\n",
              "      <th>Education</th>\n",
              "      <th>Mortgage</th>\n",
              "      <th>Personal Loan</th>\n",
              "      <th>Securities Account</th>\n",
              "      <th>CD Account</th>\n",
              "      <th>Online</th>\n",
              "      <th>CreditCard</th>\n",
              "    </tr>\n",
              "  </thead>\n",
              "  <tbody>\n",
              "    <tr>\n",
              "      <th>0</th>\n",
              "      <td>3510</td>\n",
              "      <td>38</td>\n",
              "      <td>12</td>\n",
              "      <td>61</td>\n",
              "      <td>91330</td>\n",
              "      <td>3</td>\n",
              "      <td>0.9</td>\n",
              "      <td>3</td>\n",
              "      <td>0</td>\n",
              "      <td>0</td>\n",
              "      <td>0</td>\n",
              "      <td>0</td>\n",
              "      <td>0</td>\n",
              "      <td>0</td>\n",
              "    </tr>\n",
              "    <tr>\n",
              "      <th>1</th>\n",
              "      <td>1129</td>\n",
              "      <td>30</td>\n",
              "      <td>5</td>\n",
              "      <td>171</td>\n",
              "      <td>94025</td>\n",
              "      <td>2</td>\n",
              "      <td>1.9</td>\n",
              "      <td>2</td>\n",
              "      <td>0</td>\n",
              "      <td>1</td>\n",
              "      <td>0</td>\n",
              "      <td>0</td>\n",
              "      <td>0</td>\n",
              "      <td>0</td>\n",
              "    </tr>\n",
              "    <tr>\n",
              "      <th>2</th>\n",
              "      <td>1637</td>\n",
              "      <td>65</td>\n",
              "      <td>39</td>\n",
              "      <td>100</td>\n",
              "      <td>92122</td>\n",
              "      <td>4</td>\n",
              "      <td>1.7</td>\n",
              "      <td>3</td>\n",
              "      <td>0</td>\n",
              "      <td>0</td>\n",
              "      <td>0</td>\n",
              "      <td>0</td>\n",
              "      <td>0</td>\n",
              "      <td>1</td>\n",
              "    </tr>\n",
              "    <tr>\n",
              "      <th>3</th>\n",
              "      <td>3165</td>\n",
              "      <td>28</td>\n",
              "      <td>4</td>\n",
              "      <td>82</td>\n",
              "      <td>95136</td>\n",
              "      <td>4</td>\n",
              "      <td>0.0</td>\n",
              "      <td>1</td>\n",
              "      <td>0</td>\n",
              "      <td>0</td>\n",
              "      <td>0</td>\n",
              "      <td>0</td>\n",
              "      <td>1</td>\n",
              "      <td>1</td>\n",
              "    </tr>\n",
              "    <tr>\n",
              "      <th>4</th>\n",
              "      <td>3563</td>\n",
              "      <td>32</td>\n",
              "      <td>8</td>\n",
              "      <td>169</td>\n",
              "      <td>94596</td>\n",
              "      <td>1</td>\n",
              "      <td>6.5</td>\n",
              "      <td>3</td>\n",
              "      <td>272</td>\n",
              "      <td>1</td>\n",
              "      <td>1</td>\n",
              "      <td>1</td>\n",
              "      <td>1</td>\n",
              "      <td>0</td>\n",
              "    </tr>\n",
              "  </tbody>\n",
              "</table>\n",
              "</div>\n",
              "      <button class=\"colab-df-convert\" onclick=\"convertToInteractive('df-4d95e0a7-1fbd-40ed-9812-2b3b0b687504')\"\n",
              "              title=\"Convert this dataframe to an interactive table.\"\n",
              "              style=\"display:none;\">\n",
              "        \n",
              "  <svg xmlns=\"http://www.w3.org/2000/svg\" height=\"24px\"viewBox=\"0 0 24 24\"\n",
              "       width=\"24px\">\n",
              "    <path d=\"M0 0h24v24H0V0z\" fill=\"none\"/>\n",
              "    <path d=\"M18.56 5.44l.94 2.06.94-2.06 2.06-.94-2.06-.94-.94-2.06-.94 2.06-2.06.94zm-11 1L8.5 8.5l.94-2.06 2.06-.94-2.06-.94L8.5 2.5l-.94 2.06-2.06.94zm10 10l.94 2.06.94-2.06 2.06-.94-2.06-.94-.94-2.06-.94 2.06-2.06.94z\"/><path d=\"M17.41 7.96l-1.37-1.37c-.4-.4-.92-.59-1.43-.59-.52 0-1.04.2-1.43.59L10.3 9.45l-7.72 7.72c-.78.78-.78 2.05 0 2.83L4 21.41c.39.39.9.59 1.41.59.51 0 1.02-.2 1.41-.59l7.78-7.78 2.81-2.81c.8-.78.8-2.07 0-2.86zM5.41 20L4 18.59l7.72-7.72 1.47 1.35L5.41 20z\"/>\n",
              "  </svg>\n",
              "      </button>\n",
              "      \n",
              "  <style>\n",
              "    .colab-df-container {\n",
              "      display:flex;\n",
              "      flex-wrap:wrap;\n",
              "      gap: 12px;\n",
              "    }\n",
              "\n",
              "    .colab-df-convert {\n",
              "      background-color: #E8F0FE;\n",
              "      border: none;\n",
              "      border-radius: 50%;\n",
              "      cursor: pointer;\n",
              "      display: none;\n",
              "      fill: #1967D2;\n",
              "      height: 32px;\n",
              "      padding: 0 0 0 0;\n",
              "      width: 32px;\n",
              "    }\n",
              "\n",
              "    .colab-df-convert:hover {\n",
              "      background-color: #E2EBFA;\n",
              "      box-shadow: 0px 1px 2px rgba(60, 64, 67, 0.3), 0px 1px 3px 1px rgba(60, 64, 67, 0.15);\n",
              "      fill: #174EA6;\n",
              "    }\n",
              "\n",
              "    [theme=dark] .colab-df-convert {\n",
              "      background-color: #3B4455;\n",
              "      fill: #D2E3FC;\n",
              "    }\n",
              "\n",
              "    [theme=dark] .colab-df-convert:hover {\n",
              "      background-color: #434B5C;\n",
              "      box-shadow: 0px 1px 3px 1px rgba(0, 0, 0, 0.15);\n",
              "      filter: drop-shadow(0px 1px 2px rgba(0, 0, 0, 0.3));\n",
              "      fill: #FFFFFF;\n",
              "    }\n",
              "  </style>\n",
              "\n",
              "      <script>\n",
              "        const buttonEl =\n",
              "          document.querySelector('#df-4d95e0a7-1fbd-40ed-9812-2b3b0b687504 button.colab-df-convert');\n",
              "        buttonEl.style.display =\n",
              "          google.colab.kernel.accessAllowed ? 'block' : 'none';\n",
              "\n",
              "        async function convertToInteractive(key) {\n",
              "          const element = document.querySelector('#df-4d95e0a7-1fbd-40ed-9812-2b3b0b687504');\n",
              "          const dataTable =\n",
              "            await google.colab.kernel.invokeFunction('convertToInteractive',\n",
              "                                                     [key], {});\n",
              "          if (!dataTable) return;\n",
              "\n",
              "          const docLinkHtml = 'Like what you see? Visit the ' +\n",
              "            '<a target=\"_blank\" href=https://colab.research.google.com/notebooks/data_table.ipynb>data table notebook</a>'\n",
              "            + ' to learn more about interactive tables.';\n",
              "          element.innerHTML = '';\n",
              "          dataTable['output_type'] = 'display_data';\n",
              "          await google.colab.output.renderOutput(dataTable, element);\n",
              "          const docLink = document.createElement('div');\n",
              "          docLink.innerHTML = docLinkHtml;\n",
              "          element.appendChild(docLink);\n",
              "        }\n",
              "      </script>\n",
              "    </div>\n",
              "  </div>\n",
              "  "
            ]
          },
          "metadata": {},
          "execution_count": 3
        }
      ],
      "source": [
        "data_classification.head()"
      ]
    },
    {
      "cell_type": "code",
      "execution_count": 4,
      "metadata": {
        "colab": {
          "base_uri": "https://localhost:8080/",
          "height": 35
        },
        "id": "QqmA0m3BDNBK",
        "outputId": "fd8fe85f-a04d-47dc-9bf4-1119c8c7c40c"
      },
      "outputs": [
        {
          "output_type": "execute_result",
          "data": {
            "text/plain": [
              "'3.0.0.rc2'"
            ],
            "application/vnd.google.colaboratory.intrinsic+json": {
              "type": "string"
            }
          },
          "metadata": {},
          "execution_count": 4
        }
      ],
      "source": [
        "# Verificando a Versão do Pycaret\n",
        "from pycaret.utils import version\n",
        "version()"
      ]
    },
    {
      "cell_type": "markdown",
      "metadata": {
        "id": "XB2C-dfNMHCD"
      },
      "source": [
        "**Importando um Módulo:**\n",
        "\n",
        " Dependendo do tipo de problema que você vai resolver, primeiro você precisa importar o módulo. Na primeira versão do PyCaret, 6 módulos diferentes estão disponíveis - regressão, classificação, clustering, processamento de linguagem natural (PNL), detecção de anomalias e regra de mineração associada. Neste artigo, vamos resolver um problema de classificação e, portanto, vamos importar o módulo de classificação\n",
        "\n",
        "**Inicializando a configuração :**\n",
        "\n",
        " O PyCaret executa algumas tarefas básicas de pré-processamento, como ignorar os IDs e as colunas de data, imputar os valores ausentes, codificar as variáveis ​​categóricas e dividir o conjunto de dados na divisão de teste e treino para o restante das etapas de modelagem . Quando você executa a função de configuração, ela primeiro confirma os tipos de dados e, em seguida, se você pressionar enter, criará o ambiente para você prosseguir"
      ]
    },
    {
      "cell_type": "code",
      "execution_count": 5,
      "metadata": {
        "id": "XOOzbHMDDNDv"
      },
      "outputs": [],
      "source": [
        "from pycaret import classification"
      ]
    },
    {
      "cell_type": "code",
      "execution_count": 6,
      "metadata": {
        "colab": {
          "base_uri": "https://localhost:8080/",
          "height": 645
        },
        "id": "-jFbiQ8PDpm7",
        "outputId": "244dce6f-64b4-4e3b-b150-571364cbdaff"
      },
      "outputs": [
        {
          "output_type": "display_data",
          "data": {
            "text/plain": [
              "<pandas.io.formats.style.Styler at 0x7f4e6f685fd0>"
            ],
            "text/html": [
              "<style type=\"text/css\">\n",
              "#T_665af_row8_col1 {\n",
              "  background-color: lightgreen;\n",
              "}\n",
              "</style>\n",
              "<table id=\"T_665af_\" class=\"dataframe\">\n",
              "  <thead>\n",
              "    <tr>\n",
              "      <th class=\"blank level0\" >&nbsp;</th>\n",
              "      <th class=\"col_heading level0 col0\" >Description</th>\n",
              "      <th class=\"col_heading level0 col1\" >Value</th>\n",
              "    </tr>\n",
              "  </thead>\n",
              "  <tbody>\n",
              "    <tr>\n",
              "      <th id=\"T_665af_level0_row0\" class=\"row_heading level0 row0\" >0</th>\n",
              "      <td id=\"T_665af_row0_col0\" class=\"data row0 col0\" >Session id</td>\n",
              "      <td id=\"T_665af_row0_col1\" class=\"data row0 col1\" >1896</td>\n",
              "    </tr>\n",
              "    <tr>\n",
              "      <th id=\"T_665af_level0_row1\" class=\"row_heading level0 row1\" >1</th>\n",
              "      <td id=\"T_665af_row1_col0\" class=\"data row1 col0\" >Target</td>\n",
              "      <td id=\"T_665af_row1_col1\" class=\"data row1 col1\" >Personal Loan</td>\n",
              "    </tr>\n",
              "    <tr>\n",
              "      <th id=\"T_665af_level0_row2\" class=\"row_heading level0 row2\" >2</th>\n",
              "      <td id=\"T_665af_row2_col0\" class=\"data row2 col0\" >Target type</td>\n",
              "      <td id=\"T_665af_row2_col1\" class=\"data row2 col1\" >Binary</td>\n",
              "    </tr>\n",
              "    <tr>\n",
              "      <th id=\"T_665af_level0_row3\" class=\"row_heading level0 row3\" >3</th>\n",
              "      <td id=\"T_665af_row3_col0\" class=\"data row3 col0\" >Original data shape</td>\n",
              "      <td id=\"T_665af_row3_col1\" class=\"data row3 col1\" >(4000, 14)</td>\n",
              "    </tr>\n",
              "    <tr>\n",
              "      <th id=\"T_665af_level0_row4\" class=\"row_heading level0 row4\" >4</th>\n",
              "      <td id=\"T_665af_row4_col0\" class=\"data row4 col0\" >Transformed data shape</td>\n",
              "      <td id=\"T_665af_row4_col1\" class=\"data row4 col1\" >(4000, 14)</td>\n",
              "    </tr>\n",
              "    <tr>\n",
              "      <th id=\"T_665af_level0_row5\" class=\"row_heading level0 row5\" >5</th>\n",
              "      <td id=\"T_665af_row5_col0\" class=\"data row5 col0\" >Transformed train set shape</td>\n",
              "      <td id=\"T_665af_row5_col1\" class=\"data row5 col1\" >(2799, 14)</td>\n",
              "    </tr>\n",
              "    <tr>\n",
              "      <th id=\"T_665af_level0_row6\" class=\"row_heading level0 row6\" >6</th>\n",
              "      <td id=\"T_665af_row6_col0\" class=\"data row6 col0\" >Transformed test set shape</td>\n",
              "      <td id=\"T_665af_row6_col1\" class=\"data row6 col1\" >(1201, 14)</td>\n",
              "    </tr>\n",
              "    <tr>\n",
              "      <th id=\"T_665af_level0_row7\" class=\"row_heading level0 row7\" >7</th>\n",
              "      <td id=\"T_665af_row7_col0\" class=\"data row7 col0\" >Numeric features</td>\n",
              "      <td id=\"T_665af_row7_col1\" class=\"data row7 col1\" >13</td>\n",
              "    </tr>\n",
              "    <tr>\n",
              "      <th id=\"T_665af_level0_row8\" class=\"row_heading level0 row8\" >8</th>\n",
              "      <td id=\"T_665af_row8_col0\" class=\"data row8 col0\" >Preprocess</td>\n",
              "      <td id=\"T_665af_row8_col1\" class=\"data row8 col1\" >True</td>\n",
              "    </tr>\n",
              "    <tr>\n",
              "      <th id=\"T_665af_level0_row9\" class=\"row_heading level0 row9\" >9</th>\n",
              "      <td id=\"T_665af_row9_col0\" class=\"data row9 col0\" >Imputation type</td>\n",
              "      <td id=\"T_665af_row9_col1\" class=\"data row9 col1\" >simple</td>\n",
              "    </tr>\n",
              "    <tr>\n",
              "      <th id=\"T_665af_level0_row10\" class=\"row_heading level0 row10\" >10</th>\n",
              "      <td id=\"T_665af_row10_col0\" class=\"data row10 col0\" >Numeric imputation</td>\n",
              "      <td id=\"T_665af_row10_col1\" class=\"data row10 col1\" >mean</td>\n",
              "    </tr>\n",
              "    <tr>\n",
              "      <th id=\"T_665af_level0_row11\" class=\"row_heading level0 row11\" >11</th>\n",
              "      <td id=\"T_665af_row11_col0\" class=\"data row11 col0\" >Categorical imputation</td>\n",
              "      <td id=\"T_665af_row11_col1\" class=\"data row11 col1\" >constant</td>\n",
              "    </tr>\n",
              "    <tr>\n",
              "      <th id=\"T_665af_level0_row12\" class=\"row_heading level0 row12\" >12</th>\n",
              "      <td id=\"T_665af_row12_col0\" class=\"data row12 col0\" >Fold Generator</td>\n",
              "      <td id=\"T_665af_row12_col1\" class=\"data row12 col1\" >StratifiedKFold</td>\n",
              "    </tr>\n",
              "    <tr>\n",
              "      <th id=\"T_665af_level0_row13\" class=\"row_heading level0 row13\" >13</th>\n",
              "      <td id=\"T_665af_row13_col0\" class=\"data row13 col0\" >Fold Number</td>\n",
              "      <td id=\"T_665af_row13_col1\" class=\"data row13 col1\" >10</td>\n",
              "    </tr>\n",
              "    <tr>\n",
              "      <th id=\"T_665af_level0_row14\" class=\"row_heading level0 row14\" >14</th>\n",
              "      <td id=\"T_665af_row14_col0\" class=\"data row14 col0\" >CPU Jobs</td>\n",
              "      <td id=\"T_665af_row14_col1\" class=\"data row14 col1\" >-1</td>\n",
              "    </tr>\n",
              "    <tr>\n",
              "      <th id=\"T_665af_level0_row15\" class=\"row_heading level0 row15\" >15</th>\n",
              "      <td id=\"T_665af_row15_col0\" class=\"data row15 col0\" >Use GPU</td>\n",
              "      <td id=\"T_665af_row15_col1\" class=\"data row15 col1\" >False</td>\n",
              "    </tr>\n",
              "    <tr>\n",
              "      <th id=\"T_665af_level0_row16\" class=\"row_heading level0 row16\" >16</th>\n",
              "      <td id=\"T_665af_row16_col0\" class=\"data row16 col0\" >Log Experiment</td>\n",
              "      <td id=\"T_665af_row16_col1\" class=\"data row16 col1\" >False</td>\n",
              "    </tr>\n",
              "    <tr>\n",
              "      <th id=\"T_665af_level0_row17\" class=\"row_heading level0 row17\" >17</th>\n",
              "      <td id=\"T_665af_row17_col0\" class=\"data row17 col0\" >Experiment Name</td>\n",
              "      <td id=\"T_665af_row17_col1\" class=\"data row17 col1\" >clf-default-name</td>\n",
              "    </tr>\n",
              "    <tr>\n",
              "      <th id=\"T_665af_level0_row18\" class=\"row_heading level0 row18\" >18</th>\n",
              "      <td id=\"T_665af_row18_col0\" class=\"data row18 col0\" >USI</td>\n",
              "      <td id=\"T_665af_row18_col1\" class=\"data row18 col1\" >06db</td>\n",
              "    </tr>\n",
              "  </tbody>\n",
              "</table>\n"
            ]
          },
          "metadata": {}
        }
      ],
      "source": [
        "classification_setup = classification.setup(data= data_classification, target='Personal Loan') #nome do dataframe | e o target é a coluna do dataframe que vamos  usar"
      ]
    },
    {
      "cell_type": "markdown",
      "metadata": {
        "id": "LgVNX-ewMYMs"
      },
      "source": [
        "**Treinando um modelo**  \n",
        "\n",
        "Treinar um modelo no PyCaret é bastante simples. Você só precisa usar a função **create_model** que leva apenas um parâmetro - a abreviação do modelo como uma string. \n",
        "\n",
        "Aqui, vamos primeiro treinar um modelo de árvore de decisão para o qual temos que passar **“ dt ”** e ele retornará uma tabela com pontuações de **validação cruzada k-fold** de métricas de avaliação comuns usadas para modelos de classificação.\n",
        "\n",
        "Aqui está um lembrete rápido das **métricas de avaliação** usadas para aprendizagem supervisionada:\n",
        "\n",
        "**Classificação**: precisão, AUC, recall, precisão, F1, Kappa\n",
        "**Regressão**:  MAE, MSE, RMSE, R2, RMSLE, MAPE"
      ]
    },
    {
      "cell_type": "code",
      "execution_count": 7,
      "metadata": {
        "colab": {
          "base_uri": "https://localhost:8080/",
          "height": 457,
          "referenced_widgets": [
            "24920ecb68c047dc9306695a0e08ee56",
            "e5b66d927fd043a39a10e30875fb06ac",
            "d98271dd31824baab89b2a2e7d672d19",
            "fdf6ba694bc44ae28e91dba89fdd7b83",
            "79de6319b23e4a88ab9269be28e0b8f3",
            "4440f96ebcf34a5ca0fce5b92275fa52",
            "67fe8b0c1efb4ef59021edfabd5c07ee",
            "77436d5b6aa641bcb744e680393b2ed3",
            "5b73197764ea44e189e24015169dc1bb",
            "b85a4721fa664004b0b1f130fc6412e9",
            "8745ed0076a84c199732fa3ccf280997"
          ]
        },
        "id": "3JlRTA_cDrXc",
        "outputId": "7ee35f2f-c1dd-474a-9cce-b48f3e544b3d"
      },
      "outputs": [
        {
          "output_type": "display_data",
          "data": {
            "text/plain": [
              "<IPython.core.display.HTML object>"
            ],
            "text/html": [
              ""
            ]
          },
          "metadata": {}
        },
        {
          "output_type": "display_data",
          "data": {
            "text/plain": [
              "<pandas.io.formats.style.Styler at 0x7f4e669ea750>"
            ],
            "text/html": [
              "<style type=\"text/css\">\n",
              "#T_47cb1_row10_col0, #T_47cb1_row10_col1, #T_47cb1_row10_col2, #T_47cb1_row10_col3, #T_47cb1_row10_col4, #T_47cb1_row10_col5, #T_47cb1_row10_col6 {\n",
              "  background: yellow;\n",
              "}\n",
              "</style>\n",
              "<table id=\"T_47cb1_\" class=\"dataframe\">\n",
              "  <thead>\n",
              "    <tr>\n",
              "      <th class=\"blank level0\" >&nbsp;</th>\n",
              "      <th class=\"col_heading level0 col0\" >Accuracy</th>\n",
              "      <th class=\"col_heading level0 col1\" >AUC</th>\n",
              "      <th class=\"col_heading level0 col2\" >Recall</th>\n",
              "      <th class=\"col_heading level0 col3\" >Prec.</th>\n",
              "      <th class=\"col_heading level0 col4\" >F1</th>\n",
              "      <th class=\"col_heading level0 col5\" >Kappa</th>\n",
              "      <th class=\"col_heading level0 col6\" >MCC</th>\n",
              "    </tr>\n",
              "    <tr>\n",
              "      <th class=\"index_name level0\" >Fold</th>\n",
              "      <th class=\"blank col0\" >&nbsp;</th>\n",
              "      <th class=\"blank col1\" >&nbsp;</th>\n",
              "      <th class=\"blank col2\" >&nbsp;</th>\n",
              "      <th class=\"blank col3\" >&nbsp;</th>\n",
              "      <th class=\"blank col4\" >&nbsp;</th>\n",
              "      <th class=\"blank col5\" >&nbsp;</th>\n",
              "      <th class=\"blank col6\" >&nbsp;</th>\n",
              "    </tr>\n",
              "  </thead>\n",
              "  <tbody>\n",
              "    <tr>\n",
              "      <th id=\"T_47cb1_level0_row0\" class=\"row_heading level0 row0\" >0</th>\n",
              "      <td id=\"T_47cb1_row0_col0\" class=\"data row0 col0\" >0.9821</td>\n",
              "      <td id=\"T_47cb1_row0_col1\" class=\"data row0 col1\" >0.9405</td>\n",
              "      <td id=\"T_47cb1_row0_col2\" class=\"data row0 col2\" >0.8889</td>\n",
              "      <td id=\"T_47cb1_row0_col3\" class=\"data row0 col3\" >0.9231</td>\n",
              "      <td id=\"T_47cb1_row0_col4\" class=\"data row0 col4\" >0.9057</td>\n",
              "      <td id=\"T_47cb1_row0_col5\" class=\"data row0 col5\" >0.8958</td>\n",
              "      <td id=\"T_47cb1_row0_col6\" class=\"data row0 col6\" >0.8960</td>\n",
              "    </tr>\n",
              "    <tr>\n",
              "      <th id=\"T_47cb1_level0_row1\" class=\"row_heading level0 row1\" >1</th>\n",
              "      <td id=\"T_47cb1_row1_col0\" class=\"data row1 col0\" >0.9786</td>\n",
              "      <td id=\"T_47cb1_row1_col1\" class=\"data row1 col1\" >0.9551</td>\n",
              "      <td id=\"T_47cb1_row1_col2\" class=\"data row1 col2\" >0.9259</td>\n",
              "      <td id=\"T_47cb1_row1_col3\" class=\"data row1 col3\" >0.8621</td>\n",
              "      <td id=\"T_47cb1_row1_col4\" class=\"data row1 col4\" >0.8929</td>\n",
              "      <td id=\"T_47cb1_row1_col5\" class=\"data row1 col5\" >0.8810</td>\n",
              "      <td id=\"T_47cb1_row1_col6\" class=\"data row1 col6\" >0.8817</td>\n",
              "    </tr>\n",
              "    <tr>\n",
              "      <th id=\"T_47cb1_level0_row2\" class=\"row_heading level0 row2\" >2</th>\n",
              "      <td id=\"T_47cb1_row2_col0\" class=\"data row2 col0\" >0.9679</td>\n",
              "      <td id=\"T_47cb1_row2_col1\" class=\"data row2 col1\" >0.9491</td>\n",
              "      <td id=\"T_47cb1_row2_col2\" class=\"data row2 col2\" >0.9259</td>\n",
              "      <td id=\"T_47cb1_row2_col3\" class=\"data row2 col3\" >0.7812</td>\n",
              "      <td id=\"T_47cb1_row2_col4\" class=\"data row2 col4\" >0.8475</td>\n",
              "      <td id=\"T_47cb1_row2_col5\" class=\"data row2 col5\" >0.8296</td>\n",
              "      <td id=\"T_47cb1_row2_col6\" class=\"data row2 col6\" >0.8334</td>\n",
              "    </tr>\n",
              "    <tr>\n",
              "      <th id=\"T_47cb1_level0_row3\" class=\"row_heading level0 row3\" >3</th>\n",
              "      <td id=\"T_47cb1_row3_col0\" class=\"data row3 col0\" >0.9679</td>\n",
              "      <td id=\"T_47cb1_row3_col1\" class=\"data row3 col1\" >0.9160</td>\n",
              "      <td id=\"T_47cb1_row3_col2\" class=\"data row3 col2\" >0.8519</td>\n",
              "      <td id=\"T_47cb1_row3_col3\" class=\"data row3 col3\" >0.8214</td>\n",
              "      <td id=\"T_47cb1_row3_col4\" class=\"data row3 col4\" >0.8364</td>\n",
              "      <td id=\"T_47cb1_row3_col5\" class=\"data row3 col5\" >0.8185</td>\n",
              "      <td id=\"T_47cb1_row3_col6\" class=\"data row3 col6\" >0.8187</td>\n",
              "    </tr>\n",
              "    <tr>\n",
              "      <th id=\"T_47cb1_level0_row4\" class=\"row_heading level0 row4\" >4</th>\n",
              "      <td id=\"T_47cb1_row4_col0\" class=\"data row4 col0\" >0.9750</td>\n",
              "      <td id=\"T_47cb1_row4_col1\" class=\"data row4 col1\" >0.8869</td>\n",
              "      <td id=\"T_47cb1_row4_col2\" class=\"data row4 col2\" >0.7778</td>\n",
              "      <td id=\"T_47cb1_row4_col3\" class=\"data row4 col3\" >0.9545</td>\n",
              "      <td id=\"T_47cb1_row4_col4\" class=\"data row4 col4\" >0.8571</td>\n",
              "      <td id=\"T_47cb1_row4_col5\" class=\"data row4 col5\" >0.8436</td>\n",
              "      <td id=\"T_47cb1_row4_col6\" class=\"data row4 col6\" >0.8489</td>\n",
              "    </tr>\n",
              "    <tr>\n",
              "      <th id=\"T_47cb1_level0_row5\" class=\"row_heading level0 row5\" >5</th>\n",
              "      <td id=\"T_47cb1_row5_col0\" class=\"data row5 col0\" >0.9679</td>\n",
              "      <td id=\"T_47cb1_row5_col1\" class=\"data row5 col1\" >0.8499</td>\n",
              "      <td id=\"T_47cb1_row5_col2\" class=\"data row5 col2\" >0.7037</td>\n",
              "      <td id=\"T_47cb1_row5_col3\" class=\"data row5 col3\" >0.9500</td>\n",
              "      <td id=\"T_47cb1_row5_col4\" class=\"data row5 col4\" >0.8085</td>\n",
              "      <td id=\"T_47cb1_row5_col5\" class=\"data row5 col5\" >0.7914</td>\n",
              "      <td id=\"T_47cb1_row5_col6\" class=\"data row5 col6\" >0.8020</td>\n",
              "    </tr>\n",
              "    <tr>\n",
              "      <th id=\"T_47cb1_level0_row6\" class=\"row_heading level0 row6\" >6</th>\n",
              "      <td id=\"T_47cb1_row6_col0\" class=\"data row6 col0\" >0.9821</td>\n",
              "      <td id=\"T_47cb1_row6_col1\" class=\"data row6 col1\" >0.9405</td>\n",
              "      <td id=\"T_47cb1_row6_col2\" class=\"data row6 col2\" >0.8889</td>\n",
              "      <td id=\"T_47cb1_row6_col3\" class=\"data row6 col3\" >0.9231</td>\n",
              "      <td id=\"T_47cb1_row6_col4\" class=\"data row6 col4\" >0.9057</td>\n",
              "      <td id=\"T_47cb1_row6_col5\" class=\"data row6 col5\" >0.8958</td>\n",
              "      <td id=\"T_47cb1_row6_col6\" class=\"data row6 col6\" >0.8960</td>\n",
              "    </tr>\n",
              "    <tr>\n",
              "      <th id=\"T_47cb1_level0_row7\" class=\"row_heading level0 row7\" >7</th>\n",
              "      <td id=\"T_47cb1_row7_col0\" class=\"data row7 col0\" >0.9714</td>\n",
              "      <td id=\"T_47cb1_row7_col1\" class=\"data row7 col1\" >0.9015</td>\n",
              "      <td id=\"T_47cb1_row7_col2\" class=\"data row7 col2\" >0.8148</td>\n",
              "      <td id=\"T_47cb1_row7_col3\" class=\"data row7 col3\" >0.8800</td>\n",
              "      <td id=\"T_47cb1_row7_col4\" class=\"data row7 col4\" >0.8462</td>\n",
              "      <td id=\"T_47cb1_row7_col5\" class=\"data row7 col5\" >0.8304</td>\n",
              "      <td id=\"T_47cb1_row7_col6\" class=\"data row7 col6\" >0.8312</td>\n",
              "    </tr>\n",
              "    <tr>\n",
              "      <th id=\"T_47cb1_level0_row8\" class=\"row_heading level0 row8\" >8</th>\n",
              "      <td id=\"T_47cb1_row8_col0\" class=\"data row8 col0\" >0.9857</td>\n",
              "      <td id=\"T_47cb1_row8_col1\" class=\"data row8 col1\" >0.9756</td>\n",
              "      <td id=\"T_47cb1_row8_col2\" class=\"data row8 col2\" >0.9630</td>\n",
              "      <td id=\"T_47cb1_row8_col3\" class=\"data row8 col3\" >0.8966</td>\n",
              "      <td id=\"T_47cb1_row8_col4\" class=\"data row8 col4\" >0.9286</td>\n",
              "      <td id=\"T_47cb1_row8_col5\" class=\"data row8 col5\" >0.9206</td>\n",
              "      <td id=\"T_47cb1_row8_col6\" class=\"data row8 col6\" >0.9214</td>\n",
              "    </tr>\n",
              "    <tr>\n",
              "      <th id=\"T_47cb1_level0_row9\" class=\"row_heading level0 row9\" >9</th>\n",
              "      <td id=\"T_47cb1_row9_col0\" class=\"data row9 col0\" >0.9857</td>\n",
              "      <td id=\"T_47cb1_row9_col1\" class=\"data row9 col1\" >0.9748</td>\n",
              "      <td id=\"T_47cb1_row9_col2\" class=\"data row9 col2\" >0.9615</td>\n",
              "      <td id=\"T_47cb1_row9_col3\" class=\"data row9 col3\" >0.8929</td>\n",
              "      <td id=\"T_47cb1_row9_col4\" class=\"data row9 col4\" >0.9259</td>\n",
              "      <td id=\"T_47cb1_row9_col5\" class=\"data row9 col5\" >0.9180</td>\n",
              "      <td id=\"T_47cb1_row9_col6\" class=\"data row9 col6\" >0.9188</td>\n",
              "    </tr>\n",
              "    <tr>\n",
              "      <th id=\"T_47cb1_level0_row10\" class=\"row_heading level0 row10\" >Mean</th>\n",
              "      <td id=\"T_47cb1_row10_col0\" class=\"data row10 col0\" >0.9764</td>\n",
              "      <td id=\"T_47cb1_row10_col1\" class=\"data row10 col1\" >0.9290</td>\n",
              "      <td id=\"T_47cb1_row10_col2\" class=\"data row10 col2\" >0.8702</td>\n",
              "      <td id=\"T_47cb1_row10_col3\" class=\"data row10 col3\" >0.8885</td>\n",
              "      <td id=\"T_47cb1_row10_col4\" class=\"data row10 col4\" >0.8754</td>\n",
              "      <td id=\"T_47cb1_row10_col5\" class=\"data row10 col5\" >0.8625</td>\n",
              "      <td id=\"T_47cb1_row10_col6\" class=\"data row10 col6\" >0.8648</td>\n",
              "    </tr>\n",
              "    <tr>\n",
              "      <th id=\"T_47cb1_level0_row11\" class=\"row_heading level0 row11\" >Std</th>\n",
              "      <td id=\"T_47cb1_row11_col0\" class=\"data row11 col0\" >0.0070</td>\n",
              "      <td id=\"T_47cb1_row11_col1\" class=\"data row11 col1\" >0.0382</td>\n",
              "      <td id=\"T_47cb1_row11_col2\" class=\"data row11 col2\" >0.0797</td>\n",
              "      <td id=\"T_47cb1_row11_col3\" class=\"data row11 col3\" >0.0523</td>\n",
              "      <td id=\"T_47cb1_row11_col4\" class=\"data row11 col4\" >0.0393</td>\n",
              "      <td id=\"T_47cb1_row11_col5\" class=\"data row11 col5\" >0.0430</td>\n",
              "      <td id=\"T_47cb1_row11_col6\" class=\"data row11 col6\" >0.0410</td>\n",
              "    </tr>\n",
              "  </tbody>\n",
              "</table>\n"
            ]
          },
          "metadata": {}
        },
        {
          "output_type": "display_data",
          "data": {
            "text/plain": [
              "Processing:   0%|          | 0/4 [00:00<?, ?it/s]"
            ],
            "application/vnd.jupyter.widget-view+json": {
              "version_major": 2,
              "version_minor": 0,
              "model_id": "24920ecb68c047dc9306695a0e08ee56"
            }
          },
          "metadata": {
            "application/vnd.jupyter.widget-view+json": {
              "colab": {
                "custom_widget_manager": {
                  "url": "https://ssl.gstatic.com/colaboratory-static/widgets/colab-cdn-widget-manager/a8874ba6619b6106/manager.min.js"
                }
              }
            }
          }
        },
        {
          "output_type": "display_data",
          "data": {
            "text/plain": [
              "<IPython.core.display.HTML object>"
            ],
            "text/html": [
              ""
            ]
          },
          "metadata": {}
        }
      ],
      "source": [
        "# Criando o Modelo (Máquina Preditiva)\n",
        "#decision tree classification (dt)\n",
        "classification_dt = classification.create_model('dt')"
      ]
    },
    {
      "cell_type": "code",
      "execution_count": 8,
      "metadata": {
        "colab": {
          "base_uri": "https://localhost:8080/",
          "height": 457,
          "referenced_widgets": [
            "01cfa977561f4cf480d3d42c933b0ee5",
            "22ec5189a03e4b4fabedd855897cb6e9",
            "a68d11f2b27043d1b72e76ec7ebf3f61",
            "b8fceda6985a46bab68b8fac4e8d50c1",
            "0f0aae5416bf425982815f4c38b2d5c7",
            "8e7371cb8d374a30a106f3e09b95eec7",
            "6a5f3b32c863444aae8f6c1011dd1d3d",
            "8972cf0fca3d48d4a9b474e0515c3e47",
            "3c729aaa5e0b4c82ba55278a56960800",
            "5d434c01428c4740a72a60d2228ac1ae",
            "497435a35aca4f918f84e2e3c3e56ad3"
          ]
        },
        "id": "3JB4SmnPDNNQ",
        "outputId": "60a17223-5981-4f25-a5e2-38d8ca401aaf"
      },
      "outputs": [
        {
          "output_type": "display_data",
          "data": {
            "text/plain": [
              "<IPython.core.display.HTML object>"
            ],
            "text/html": [
              ""
            ]
          },
          "metadata": {}
        },
        {
          "output_type": "display_data",
          "data": {
            "text/plain": [
              "<pandas.io.formats.style.Styler at 0x7f4e88a34ed0>"
            ],
            "text/html": [
              "<style type=\"text/css\">\n",
              "#T_82803_row10_col0, #T_82803_row10_col1, #T_82803_row10_col2, #T_82803_row10_col3, #T_82803_row10_col4, #T_82803_row10_col5, #T_82803_row10_col6 {\n",
              "  background: yellow;\n",
              "}\n",
              "</style>\n",
              "<table id=\"T_82803_\" class=\"dataframe\">\n",
              "  <thead>\n",
              "    <tr>\n",
              "      <th class=\"blank level0\" >&nbsp;</th>\n",
              "      <th class=\"col_heading level0 col0\" >Accuracy</th>\n",
              "      <th class=\"col_heading level0 col1\" >AUC</th>\n",
              "      <th class=\"col_heading level0 col2\" >Recall</th>\n",
              "      <th class=\"col_heading level0 col3\" >Prec.</th>\n",
              "      <th class=\"col_heading level0 col4\" >F1</th>\n",
              "      <th class=\"col_heading level0 col5\" >Kappa</th>\n",
              "      <th class=\"col_heading level0 col6\" >MCC</th>\n",
              "    </tr>\n",
              "    <tr>\n",
              "      <th class=\"index_name level0\" >Fold</th>\n",
              "      <th class=\"blank col0\" >&nbsp;</th>\n",
              "      <th class=\"blank col1\" >&nbsp;</th>\n",
              "      <th class=\"blank col2\" >&nbsp;</th>\n",
              "      <th class=\"blank col3\" >&nbsp;</th>\n",
              "      <th class=\"blank col4\" >&nbsp;</th>\n",
              "      <th class=\"blank col5\" >&nbsp;</th>\n",
              "      <th class=\"blank col6\" >&nbsp;</th>\n",
              "    </tr>\n",
              "  </thead>\n",
              "  <tbody>\n",
              "    <tr>\n",
              "      <th id=\"T_82803_level0_row0\" class=\"row_heading level0 row0\" >0</th>\n",
              "      <td id=\"T_82803_row0_col0\" class=\"data row0 col0\" >0.9750</td>\n",
              "      <td id=\"T_82803_row0_col1\" class=\"data row0 col1\" >0.9200</td>\n",
              "      <td id=\"T_82803_row0_col2\" class=\"data row0 col2\" >0.8519</td>\n",
              "      <td id=\"T_82803_row0_col3\" class=\"data row0 col3\" >0.8846</td>\n",
              "      <td id=\"T_82803_row0_col4\" class=\"data row0 col4\" >0.8679</td>\n",
              "      <td id=\"T_82803_row0_col5\" class=\"data row0 col5\" >0.8541</td>\n",
              "      <td id=\"T_82803_row0_col6\" class=\"data row0 col6\" >0.8543</td>\n",
              "    </tr>\n",
              "    <tr>\n",
              "      <th id=\"T_82803_level0_row1\" class=\"row_heading level0 row1\" >1</th>\n",
              "      <td id=\"T_82803_row1_col0\" class=\"data row1 col0\" >0.9857</td>\n",
              "      <td id=\"T_82803_row1_col1\" class=\"data row1 col1\" >0.9590</td>\n",
              "      <td id=\"T_82803_row1_col2\" class=\"data row1 col2\" >0.9259</td>\n",
              "      <td id=\"T_82803_row1_col3\" class=\"data row1 col3\" >0.9259</td>\n",
              "      <td id=\"T_82803_row1_col4\" class=\"data row1 col4\" >0.9259</td>\n",
              "      <td id=\"T_82803_row1_col5\" class=\"data row1 col5\" >0.9180</td>\n",
              "      <td id=\"T_82803_row1_col6\" class=\"data row1 col6\" >0.9180</td>\n",
              "    </tr>\n",
              "    <tr>\n",
              "      <th id=\"T_82803_level0_row2\" class=\"row_heading level0 row2\" >2</th>\n",
              "      <td id=\"T_82803_row2_col0\" class=\"data row2 col0\" >0.9750</td>\n",
              "      <td id=\"T_82803_row2_col1\" class=\"data row2 col1\" >0.9531</td>\n",
              "      <td id=\"T_82803_row2_col2\" class=\"data row2 col2\" >0.9259</td>\n",
              "      <td id=\"T_82803_row2_col3\" class=\"data row2 col3\" >0.8333</td>\n",
              "      <td id=\"T_82803_row2_col4\" class=\"data row2 col4\" >0.8772</td>\n",
              "      <td id=\"T_82803_row2_col5\" class=\"data row2 col5\" >0.8633</td>\n",
              "      <td id=\"T_82803_row2_col6\" class=\"data row2 col6\" >0.8648</td>\n",
              "    </tr>\n",
              "    <tr>\n",
              "      <th id=\"T_82803_level0_row3\" class=\"row_heading level0 row3\" >3</th>\n",
              "      <td id=\"T_82803_row3_col0\" class=\"data row3 col0\" >0.9643</td>\n",
              "      <td id=\"T_82803_row3_col1\" class=\"data row3 col1\" >0.9141</td>\n",
              "      <td id=\"T_82803_row3_col2\" class=\"data row3 col2\" >0.8519</td>\n",
              "      <td id=\"T_82803_row3_col3\" class=\"data row3 col3\" >0.7931</td>\n",
              "      <td id=\"T_82803_row3_col4\" class=\"data row3 col4\" >0.8214</td>\n",
              "      <td id=\"T_82803_row3_col5\" class=\"data row3 col5\" >0.8016</td>\n",
              "      <td id=\"T_82803_row3_col6\" class=\"data row3 col6\" >0.8022</td>\n",
              "    </tr>\n",
              "    <tr>\n",
              "      <th id=\"T_82803_level0_row4\" class=\"row_heading level0 row4\" >4</th>\n",
              "      <td id=\"T_82803_row4_col0\" class=\"data row4 col0\" >0.9750</td>\n",
              "      <td id=\"T_82803_row4_col1\" class=\"data row4 col1\" >0.8869</td>\n",
              "      <td id=\"T_82803_row4_col2\" class=\"data row4 col2\" >0.7778</td>\n",
              "      <td id=\"T_82803_row4_col3\" class=\"data row4 col3\" >0.9545</td>\n",
              "      <td id=\"T_82803_row4_col4\" class=\"data row4 col4\" >0.8571</td>\n",
              "      <td id=\"T_82803_row4_col5\" class=\"data row4 col5\" >0.8436</td>\n",
              "      <td id=\"T_82803_row4_col6\" class=\"data row4 col6\" >0.8489</td>\n",
              "    </tr>\n",
              "    <tr>\n",
              "      <th id=\"T_82803_level0_row5\" class=\"row_heading level0 row5\" >5</th>\n",
              "      <td id=\"T_82803_row5_col0\" class=\"data row5 col0\" >0.9679</td>\n",
              "      <td id=\"T_82803_row5_col1\" class=\"data row5 col1\" >0.8499</td>\n",
              "      <td id=\"T_82803_row5_col2\" class=\"data row5 col2\" >0.7037</td>\n",
              "      <td id=\"T_82803_row5_col3\" class=\"data row5 col3\" >0.9500</td>\n",
              "      <td id=\"T_82803_row5_col4\" class=\"data row5 col4\" >0.8085</td>\n",
              "      <td id=\"T_82803_row5_col5\" class=\"data row5 col5\" >0.7914</td>\n",
              "      <td id=\"T_82803_row5_col6\" class=\"data row5 col6\" >0.8020</td>\n",
              "    </tr>\n",
              "    <tr>\n",
              "      <th id=\"T_82803_level0_row6\" class=\"row_heading level0 row6\" >6</th>\n",
              "      <td id=\"T_82803_row6_col0\" class=\"data row6 col0\" >0.9750</td>\n",
              "      <td id=\"T_82803_row6_col1\" class=\"data row6 col1\" >0.9365</td>\n",
              "      <td id=\"T_82803_row6_col2\" class=\"data row6 col2\" >0.8889</td>\n",
              "      <td id=\"T_82803_row6_col3\" class=\"data row6 col3\" >0.8571</td>\n",
              "      <td id=\"T_82803_row6_col4\" class=\"data row6 col4\" >0.8727</td>\n",
              "      <td id=\"T_82803_row6_col5\" class=\"data row6 col5\" >0.8589</td>\n",
              "      <td id=\"T_82803_row6_col6\" class=\"data row6 col6\" >0.8590</td>\n",
              "    </tr>\n",
              "    <tr>\n",
              "      <th id=\"T_82803_level0_row7\" class=\"row_heading level0 row7\" >7</th>\n",
              "      <td id=\"T_82803_row7_col0\" class=\"data row7 col0\" >0.9750</td>\n",
              "      <td id=\"T_82803_row7_col1\" class=\"data row7 col1\" >0.9200</td>\n",
              "      <td id=\"T_82803_row7_col2\" class=\"data row7 col2\" >0.8519</td>\n",
              "      <td id=\"T_82803_row7_col3\" class=\"data row7 col3\" >0.8846</td>\n",
              "      <td id=\"T_82803_row7_col4\" class=\"data row7 col4\" >0.8679</td>\n",
              "      <td id=\"T_82803_row7_col5\" class=\"data row7 col5\" >0.8541</td>\n",
              "      <td id=\"T_82803_row7_col6\" class=\"data row7 col6\" >0.8543</td>\n",
              "    </tr>\n",
              "    <tr>\n",
              "      <th id=\"T_82803_level0_row8\" class=\"row_heading level0 row8\" >8</th>\n",
              "      <td id=\"T_82803_row8_col0\" class=\"data row8 col0\" >0.9893</td>\n",
              "      <td id=\"T_82803_row8_col1\" class=\"data row8 col1\" >0.9775</td>\n",
              "      <td id=\"T_82803_row8_col2\" class=\"data row8 col2\" >0.9630</td>\n",
              "      <td id=\"T_82803_row8_col3\" class=\"data row8 col3\" >0.9286</td>\n",
              "      <td id=\"T_82803_row8_col4\" class=\"data row8 col4\" >0.9455</td>\n",
              "      <td id=\"T_82803_row8_col5\" class=\"data row8 col5\" >0.9395</td>\n",
              "      <td id=\"T_82803_row8_col6\" class=\"data row8 col6\" >0.9397</td>\n",
              "    </tr>\n",
              "    <tr>\n",
              "      <th id=\"T_82803_level0_row9\" class=\"row_heading level0 row9\" >9</th>\n",
              "      <td id=\"T_82803_row9_col0\" class=\"data row9 col0\" >0.9821</td>\n",
              "      <td id=\"T_82803_row9_col1\" class=\"data row9 col1\" >0.9901</td>\n",
              "      <td id=\"T_82803_row9_col2\" class=\"data row9 col2\" >1.0000</td>\n",
              "      <td id=\"T_82803_row9_col3\" class=\"data row9 col3\" >0.8387</td>\n",
              "      <td id=\"T_82803_row9_col4\" class=\"data row9 col4\" >0.9123</td>\n",
              "      <td id=\"T_82803_row9_col5\" class=\"data row9 col5\" >0.9024</td>\n",
              "      <td id=\"T_82803_row9_col6\" class=\"data row9 col6\" >0.9067</td>\n",
              "    </tr>\n",
              "    <tr>\n",
              "      <th id=\"T_82803_level0_row10\" class=\"row_heading level0 row10\" >Mean</th>\n",
              "      <td id=\"T_82803_row10_col0\" class=\"data row10 col0\" >0.9764</td>\n",
              "      <td id=\"T_82803_row10_col1\" class=\"data row10 col1\" >0.9307</td>\n",
              "      <td id=\"T_82803_row10_col2\" class=\"data row10 col2\" >0.8741</td>\n",
              "      <td id=\"T_82803_row10_col3\" class=\"data row10 col3\" >0.8851</td>\n",
              "      <td id=\"T_82803_row10_col4\" class=\"data row10 col4\" >0.8757</td>\n",
              "      <td id=\"T_82803_row10_col5\" class=\"data row10 col5\" >0.8627</td>\n",
              "      <td id=\"T_82803_row10_col6\" class=\"data row10 col6\" >0.8650</td>\n",
              "    </tr>\n",
              "    <tr>\n",
              "      <th id=\"T_82803_level0_row11\" class=\"row_heading level0 row11\" >Std</th>\n",
              "      <td id=\"T_82803_row11_col0\" class=\"data row11 col0\" >0.0072</td>\n",
              "      <td id=\"T_82803_row11_col1\" class=\"data row11 col1\" >0.0400</td>\n",
              "      <td id=\"T_82803_row11_col2\" class=\"data row11 col2\" >0.0831</td>\n",
              "      <td id=\"T_82803_row11_col3\" class=\"data row11 col3\" >0.0516</td>\n",
              "      <td id=\"T_82803_row11_col4\" class=\"data row11 col4\" >0.0408</td>\n",
              "      <td id=\"T_82803_row11_col5\" class=\"data row11 col5\" >0.0446</td>\n",
              "      <td id=\"T_82803_row11_col6\" class=\"data row11 col6\" >0.0431</td>\n",
              "    </tr>\n",
              "  </tbody>\n",
              "</table>\n"
            ]
          },
          "metadata": {}
        },
        {
          "output_type": "display_data",
          "data": {
            "text/plain": [
              "Processing:   0%|          | 0/6 [00:00<?, ?it/s]"
            ],
            "application/vnd.jupyter.widget-view+json": {
              "version_major": 2,
              "version_minor": 0,
              "model_id": "01cfa977561f4cf480d3d42c933b0ee5"
            }
          },
          "metadata": {
            "application/vnd.jupyter.widget-view+json": {
              "colab": {
                "custom_widget_manager": {
                  "url": "https://ssl.gstatic.com/colaboratory-static/widgets/colab-cdn-widget-manager/a8874ba6619b6106/manager.min.js"
                }
              }
            }
          }
        },
        {
          "output_type": "display_data",
          "data": {
            "text/plain": [
              "<IPython.core.display.HTML object>"
            ],
            "text/html": [
              ""
            ]
          },
          "metadata": {}
        }
      ],
      "source": [
        "# Criando Agrupamentos Boosting \n",
        "boosting = classification.ensemble_model(classification_dt, method= 'Boosting')"
      ]
    },
    {
      "cell_type": "code",
      "execution_count": 9,
      "metadata": {
        "colab": {
          "base_uri": "https://localhost:8080/",
          "height": 645,
          "referenced_widgets": [
            "a05e8d8e158b4f5099b9d4bed04d254f",
            "a0c1202442c644c0a7f802f4e9517ddc",
            "12bff6c308374a94b93100c76f45f247",
            "0a5159d7214545d49e9e2c681f11f274",
            "acfe49fb984844c1895827753162b5a0",
            "dcae9c64c02b4e399f9c4a451152640f",
            "2e98d46a5013437683b00c63ae17b6fb",
            "c489e23acf044987830de2f07fe3f205",
            "3990929a878a4e35a2c32fa8dc816451",
            "6f8821cc25a4422e84212c2d7c765df2",
            "9d6ff8eac1f34ba782d936bb2eafc300"
          ]
        },
        "id": "F7wT4JaaDNSb",
        "outputId": "dc635f7c-8f73-4b77-9fe7-ad09c3f42d68"
      },
      "outputs": [
        {
          "output_type": "display_data",
          "data": {
            "text/plain": [
              "<IPython.core.display.HTML object>"
            ],
            "text/html": [
              ""
            ]
          },
          "metadata": {}
        },
        {
          "output_type": "display_data",
          "data": {
            "text/plain": [
              "<pandas.io.formats.style.Styler at 0x7f4e669d5b10>"
            ],
            "text/html": [
              "<style type=\"text/css\">\n",
              "#T_1857d_ th {\n",
              "  text-align: left;\n",
              "}\n",
              "#T_1857d_row0_col0, #T_1857d_row0_col4, #T_1857d_row1_col0, #T_1857d_row1_col1, #T_1857d_row1_col2, #T_1857d_row1_col3, #T_1857d_row1_col4, #T_1857d_row1_col5, #T_1857d_row1_col6, #T_1857d_row1_col7, #T_1857d_row2_col0, #T_1857d_row2_col1, #T_1857d_row2_col2, #T_1857d_row2_col3, #T_1857d_row2_col4, #T_1857d_row2_col5, #T_1857d_row2_col6, #T_1857d_row2_col7, #T_1857d_row3_col0, #T_1857d_row3_col1, #T_1857d_row3_col2, #T_1857d_row3_col3, #T_1857d_row3_col5, #T_1857d_row3_col6, #T_1857d_row3_col7, #T_1857d_row4_col0, #T_1857d_row4_col1, #T_1857d_row4_col2, #T_1857d_row4_col3, #T_1857d_row4_col4, #T_1857d_row4_col5, #T_1857d_row4_col6, #T_1857d_row4_col7, #T_1857d_row5_col0, #T_1857d_row5_col1, #T_1857d_row5_col2, #T_1857d_row5_col3, #T_1857d_row5_col4, #T_1857d_row5_col5, #T_1857d_row5_col6, #T_1857d_row5_col7, #T_1857d_row6_col0, #T_1857d_row6_col1, #T_1857d_row6_col2, #T_1857d_row6_col3, #T_1857d_row6_col4, #T_1857d_row6_col5, #T_1857d_row6_col6, #T_1857d_row6_col7, #T_1857d_row7_col0, #T_1857d_row7_col1, #T_1857d_row7_col2, #T_1857d_row7_col3, #T_1857d_row7_col4, #T_1857d_row7_col5, #T_1857d_row7_col6, #T_1857d_row7_col7, #T_1857d_row8_col0, #T_1857d_row8_col1, #T_1857d_row8_col2, #T_1857d_row8_col3, #T_1857d_row8_col4, #T_1857d_row8_col5, #T_1857d_row8_col6, #T_1857d_row8_col7, #T_1857d_row9_col0, #T_1857d_row9_col1, #T_1857d_row9_col2, #T_1857d_row9_col3, #T_1857d_row9_col4, #T_1857d_row9_col5, #T_1857d_row9_col6, #T_1857d_row9_col7, #T_1857d_row10_col0, #T_1857d_row10_col1, #T_1857d_row10_col2, #T_1857d_row10_col3, #T_1857d_row10_col4, #T_1857d_row10_col5, #T_1857d_row10_col6, #T_1857d_row10_col7, #T_1857d_row11_col0, #T_1857d_row11_col1, #T_1857d_row11_col2, #T_1857d_row11_col3, #T_1857d_row11_col4, #T_1857d_row11_col5, #T_1857d_row11_col6, #T_1857d_row11_col7, #T_1857d_row12_col0, #T_1857d_row12_col1, #T_1857d_row12_col2, #T_1857d_row12_col3, #T_1857d_row12_col4, #T_1857d_row12_col5, #T_1857d_row12_col6, #T_1857d_row12_col7, #T_1857d_row13_col0, #T_1857d_row13_col1, #T_1857d_row13_col2, #T_1857d_row13_col3, #T_1857d_row13_col4, #T_1857d_row13_col5, #T_1857d_row13_col6, #T_1857d_row13_col7 {\n",
              "  text-align: left;\n",
              "}\n",
              "#T_1857d_row0_col1, #T_1857d_row0_col2, #T_1857d_row0_col3, #T_1857d_row0_col5, #T_1857d_row0_col6, #T_1857d_row0_col7, #T_1857d_row3_col4 {\n",
              "  text-align: left;\n",
              "  background-color: yellow;\n",
              "}\n",
              "#T_1857d_row0_col8, #T_1857d_row1_col8, #T_1857d_row2_col8, #T_1857d_row3_col8, #T_1857d_row4_col8, #T_1857d_row5_col8, #T_1857d_row6_col8, #T_1857d_row7_col8, #T_1857d_row8_col8, #T_1857d_row9_col8, #T_1857d_row10_col8, #T_1857d_row12_col8, #T_1857d_row13_col8 {\n",
              "  text-align: left;\n",
              "  background-color: lightgrey;\n",
              "}\n",
              "#T_1857d_row11_col8 {\n",
              "  text-align: left;\n",
              "  background-color: yellow;\n",
              "  background-color: lightgrey;\n",
              "}\n",
              "</style>\n",
              "<table id=\"T_1857d_\" class=\"dataframe\">\n",
              "  <thead>\n",
              "    <tr>\n",
              "      <th class=\"blank level0\" >&nbsp;</th>\n",
              "      <th class=\"col_heading level0 col0\" >Model</th>\n",
              "      <th class=\"col_heading level0 col1\" >Accuracy</th>\n",
              "      <th class=\"col_heading level0 col2\" >AUC</th>\n",
              "      <th class=\"col_heading level0 col3\" >Recall</th>\n",
              "      <th class=\"col_heading level0 col4\" >Prec.</th>\n",
              "      <th class=\"col_heading level0 col5\" >F1</th>\n",
              "      <th class=\"col_heading level0 col6\" >Kappa</th>\n",
              "      <th class=\"col_heading level0 col7\" >MCC</th>\n",
              "      <th class=\"col_heading level0 col8\" >TT (Sec)</th>\n",
              "    </tr>\n",
              "  </thead>\n",
              "  <tbody>\n",
              "    <tr>\n",
              "      <th id=\"T_1857d_level0_row0\" class=\"row_heading level0 row0\" >gbc</th>\n",
              "      <td id=\"T_1857d_row0_col0\" class=\"data row0 col0\" >Gradient Boosting Classifier</td>\n",
              "      <td id=\"T_1857d_row0_col1\" class=\"data row0 col1\" >0.9839</td>\n",
              "      <td id=\"T_1857d_row0_col2\" class=\"data row0 col2\" >0.9971</td>\n",
              "      <td id=\"T_1857d_row0_col3\" class=\"data row0 col3\" >0.8887</td>\n",
              "      <td id=\"T_1857d_row0_col4\" class=\"data row0 col4\" >0.9456</td>\n",
              "      <td id=\"T_1857d_row0_col5\" class=\"data row0 col5\" >0.9117</td>\n",
              "      <td id=\"T_1857d_row0_col6\" class=\"data row0 col6\" >0.9029</td>\n",
              "      <td id=\"T_1857d_row0_col7\" class=\"data row0 col7\" >0.9061</td>\n",
              "      <td id=\"T_1857d_row0_col8\" class=\"data row0 col8\" >0.4260</td>\n",
              "    </tr>\n",
              "    <tr>\n",
              "      <th id=\"T_1857d_level0_row1\" class=\"row_heading level0 row1\" >rf</th>\n",
              "      <td id=\"T_1857d_row1_col0\" class=\"data row1 col0\" >Random Forest Classifier</td>\n",
              "      <td id=\"T_1857d_row1_col1\" class=\"data row1 col1\" >0.9832</td>\n",
              "      <td id=\"T_1857d_row1_col2\" class=\"data row1 col2\" >0.9935</td>\n",
              "      <td id=\"T_1857d_row1_col3\" class=\"data row1 col3\" >0.8554</td>\n",
              "      <td id=\"T_1857d_row1_col4\" class=\"data row1 col4\" >0.9671</td>\n",
              "      <td id=\"T_1857d_row1_col5\" class=\"data row1 col5\" >0.9049</td>\n",
              "      <td id=\"T_1857d_row1_col6\" class=\"data row1 col6\" >0.8958</td>\n",
              "      <td id=\"T_1857d_row1_col7\" class=\"data row1 col7\" >0.8995</td>\n",
              "      <td id=\"T_1857d_row1_col8\" class=\"data row1 col8\" >0.5920</td>\n",
              "    </tr>\n",
              "    <tr>\n",
              "      <th id=\"T_1857d_level0_row2\" class=\"row_heading level0 row2\" >lightgbm</th>\n",
              "      <td id=\"T_1857d_row2_col0\" class=\"data row2 col0\" >Light Gradient Boosting Machine</td>\n",
              "      <td id=\"T_1857d_row2_col1\" class=\"data row2 col1\" >0.9818</td>\n",
              "      <td id=\"T_1857d_row2_col2\" class=\"data row2 col2\" >0.9959</td>\n",
              "      <td id=\"T_1857d_row2_col3\" class=\"data row2 col3\" >0.8628</td>\n",
              "      <td id=\"T_1857d_row2_col4\" class=\"data row2 col4\" >0.9467</td>\n",
              "      <td id=\"T_1857d_row2_col5\" class=\"data row2 col5\" >0.8993</td>\n",
              "      <td id=\"T_1857d_row2_col6\" class=\"data row2 col6\" >0.8894</td>\n",
              "      <td id=\"T_1857d_row2_col7\" class=\"data row2 col7\" >0.8926</td>\n",
              "      <td id=\"T_1857d_row2_col8\" class=\"data row2 col8\" >0.1440</td>\n",
              "    </tr>\n",
              "    <tr>\n",
              "      <th id=\"T_1857d_level0_row3\" class=\"row_heading level0 row3\" >et</th>\n",
              "      <td id=\"T_1857d_row3_col0\" class=\"data row3 col0\" >Extra Trees Classifier</td>\n",
              "      <td id=\"T_1857d_row3_col1\" class=\"data row3 col1\" >0.9771</td>\n",
              "      <td id=\"T_1857d_row3_col2\" class=\"data row3 col2\" >0.9934</td>\n",
              "      <td id=\"T_1857d_row3_col3\" class=\"data row3 col3\" >0.7885</td>\n",
              "      <td id=\"T_1857d_row3_col4\" class=\"data row3 col4\" >0.9683</td>\n",
              "      <td id=\"T_1857d_row3_col5\" class=\"data row3 col5\" >0.8667</td>\n",
              "      <td id=\"T_1857d_row3_col6\" class=\"data row3 col6\" >0.8544</td>\n",
              "      <td id=\"T_1857d_row3_col7\" class=\"data row3 col7\" >0.8612</td>\n",
              "      <td id=\"T_1857d_row3_col8\" class=\"data row3 col8\" >0.3190</td>\n",
              "    </tr>\n",
              "    <tr>\n",
              "      <th id=\"T_1857d_level0_row4\" class=\"row_heading level0 row4\" >dt</th>\n",
              "      <td id=\"T_1857d_row4_col0\" class=\"data row4 col0\" >Decision Tree Classifier</td>\n",
              "      <td id=\"T_1857d_row4_col1\" class=\"data row4 col1\" >0.9764</td>\n",
              "      <td id=\"T_1857d_row4_col2\" class=\"data row4 col2\" >0.9290</td>\n",
              "      <td id=\"T_1857d_row4_col3\" class=\"data row4 col3\" >0.8702</td>\n",
              "      <td id=\"T_1857d_row4_col4\" class=\"data row4 col4\" >0.8885</td>\n",
              "      <td id=\"T_1857d_row4_col5\" class=\"data row4 col5\" >0.8754</td>\n",
              "      <td id=\"T_1857d_row4_col6\" class=\"data row4 col6\" >0.8625</td>\n",
              "      <td id=\"T_1857d_row4_col7\" class=\"data row4 col7\" >0.8648</td>\n",
              "      <td id=\"T_1857d_row4_col8\" class=\"data row4 col8\" >0.0500</td>\n",
              "    </tr>\n",
              "    <tr>\n",
              "      <th id=\"T_1857d_level0_row5\" class=\"row_heading level0 row5\" >ada</th>\n",
              "      <td id=\"T_1857d_row5_col0\" class=\"data row5 col0\" >Ada Boost Classifier</td>\n",
              "      <td id=\"T_1857d_row5_col1\" class=\"data row5 col1\" >0.9646</td>\n",
              "      <td id=\"T_1857d_row5_col2\" class=\"data row5 col2\" >0.9729</td>\n",
              "      <td id=\"T_1857d_row5_col3\" class=\"data row5 col3\" >0.7513</td>\n",
              "      <td id=\"T_1857d_row5_col4\" class=\"data row5 col4\" >0.8659</td>\n",
              "      <td id=\"T_1857d_row5_col5\" class=\"data row5 col5\" >0.8015</td>\n",
              "      <td id=\"T_1857d_row5_col6\" class=\"data row5 col6\" >0.7823</td>\n",
              "      <td id=\"T_1857d_row5_col7\" class=\"data row5 col7\" >0.7864</td>\n",
              "      <td id=\"T_1857d_row5_col8\" class=\"data row5 col8\" >0.3280</td>\n",
              "    </tr>\n",
              "    <tr>\n",
              "      <th id=\"T_1857d_level0_row6\" class=\"row_heading level0 row6\" >lda</th>\n",
              "      <td id=\"T_1857d_row6_col0\" class=\"data row6 col0\" >Linear Discriminant Analysis</td>\n",
              "      <td id=\"T_1857d_row6_col1\" class=\"data row6 col1\" >0.9396</td>\n",
              "      <td id=\"T_1857d_row6_col2\" class=\"data row6 col2\" >0.9574</td>\n",
              "      <td id=\"T_1857d_row6_col3\" class=\"data row6 col3\" >0.6030</td>\n",
              "      <td id=\"T_1857d_row6_col4\" class=\"data row6 col4\" >0.7159</td>\n",
              "      <td id=\"T_1857d_row6_col5\" class=\"data row6 col5\" >0.6487</td>\n",
              "      <td id=\"T_1857d_row6_col6\" class=\"data row6 col6\" >0.6165</td>\n",
              "      <td id=\"T_1857d_row6_col7\" class=\"data row6 col7\" >0.6223</td>\n",
              "      <td id=\"T_1857d_row6_col8\" class=\"data row6 col8\" >0.0350</td>\n",
              "    </tr>\n",
              "    <tr>\n",
              "      <th id=\"T_1857d_level0_row7\" class=\"row_heading level0 row7\" >ridge</th>\n",
              "      <td id=\"T_1857d_row7_col0\" class=\"data row7 col0\" >Ridge Classifier</td>\n",
              "      <td id=\"T_1857d_row7_col1\" class=\"data row7 col1\" >0.9343</td>\n",
              "      <td id=\"T_1857d_row7_col2\" class=\"data row7 col2\" >0.0000</td>\n",
              "      <td id=\"T_1857d_row7_col3\" class=\"data row7 col3\" >0.3494</td>\n",
              "      <td id=\"T_1857d_row7_col4\" class=\"data row7 col4\" >0.9042</td>\n",
              "      <td id=\"T_1857d_row7_col5\" class=\"data row7 col5\" >0.4937</td>\n",
              "      <td id=\"T_1857d_row7_col6\" class=\"data row7 col6\" >0.4675</td>\n",
              "      <td id=\"T_1857d_row7_col7\" class=\"data row7 col7\" >0.5324</td>\n",
              "      <td id=\"T_1857d_row7_col8\" class=\"data row7 col8\" >0.0590</td>\n",
              "    </tr>\n",
              "    <tr>\n",
              "      <th id=\"T_1857d_level0_row8\" class=\"row_heading level0 row8\" >lr</th>\n",
              "      <td id=\"T_1857d_row8_col0\" class=\"data row8 col0\" >Logistic Regression</td>\n",
              "      <td id=\"T_1857d_row8_col1\" class=\"data row8 col1\" >0.9268</td>\n",
              "      <td id=\"T_1857d_row8_col2\" class=\"data row8 col2\" >0.9357</td>\n",
              "      <td id=\"T_1857d_row8_col3\" class=\"data row8 col3\" >0.4647</td>\n",
              "      <td id=\"T_1857d_row8_col4\" class=\"data row8 col4\" >0.6650</td>\n",
              "      <td id=\"T_1857d_row8_col5\" class=\"data row8 col5\" >0.5403</td>\n",
              "      <td id=\"T_1857d_row8_col6\" class=\"data row8 col6\" >0.5027</td>\n",
              "      <td id=\"T_1857d_row8_col7\" class=\"data row8 col7\" >0.5156</td>\n",
              "      <td id=\"T_1857d_row8_col8\" class=\"data row8 col8\" >0.1430</td>\n",
              "    </tr>\n",
              "    <tr>\n",
              "      <th id=\"T_1857d_level0_row9\" class=\"row_heading level0 row9\" >qda</th>\n",
              "      <td id=\"T_1857d_row9_col0\" class=\"data row9 col0\" >Quadratic Discriminant Analysis</td>\n",
              "      <td id=\"T_1857d_row9_col1\" class=\"data row9 col1\" >0.9225</td>\n",
              "      <td id=\"T_1857d_row9_col2\" class=\"data row9 col2\" >0.9526</td>\n",
              "      <td id=\"T_1857d_row9_col3\" class=\"data row9 col3\" >0.6735</td>\n",
              "      <td id=\"T_1857d_row9_col4\" class=\"data row9 col4\" >0.5861</td>\n",
              "      <td id=\"T_1857d_row9_col5\" class=\"data row9 col5\" >0.6233</td>\n",
              "      <td id=\"T_1857d_row9_col6\" class=\"data row9 col6\" >0.5806</td>\n",
              "      <td id=\"T_1857d_row9_col7\" class=\"data row9 col7\" >0.5844</td>\n",
              "      <td id=\"T_1857d_row9_col8\" class=\"data row9 col8\" >0.0530</td>\n",
              "    </tr>\n",
              "    <tr>\n",
              "      <th id=\"T_1857d_level0_row10\" class=\"row_heading level0 row10\" >knn</th>\n",
              "      <td id=\"T_1857d_row10_col0\" class=\"data row10 col0\" >K Neighbors Classifier</td>\n",
              "      <td id=\"T_1857d_row10_col1\" class=\"data row10 col1\" >0.9050</td>\n",
              "      <td id=\"T_1857d_row10_col2\" class=\"data row10 col2\" >0.5716</td>\n",
              "      <td id=\"T_1857d_row10_col3\" class=\"data row10 col3\" >0.0222</td>\n",
              "      <td id=\"T_1857d_row10_col4\" class=\"data row10 col4\" >0.4000</td>\n",
              "      <td id=\"T_1857d_row10_col5\" class=\"data row10 col5\" >0.0419</td>\n",
              "      <td id=\"T_1857d_row10_col6\" class=\"data row10 col6\" >0.0362</td>\n",
              "      <td id=\"T_1857d_row10_col7\" class=\"data row10 col7\" >0.0839</td>\n",
              "      <td id=\"T_1857d_row10_col8\" class=\"data row10 col8\" >0.1850</td>\n",
              "    </tr>\n",
              "    <tr>\n",
              "      <th id=\"T_1857d_level0_row11\" class=\"row_heading level0 row11\" >dummy</th>\n",
              "      <td id=\"T_1857d_row11_col0\" class=\"data row11 col0\" >Dummy Classifier</td>\n",
              "      <td id=\"T_1857d_row11_col1\" class=\"data row11 col1\" >0.9039</td>\n",
              "      <td id=\"T_1857d_row11_col2\" class=\"data row11 col2\" >0.5000</td>\n",
              "      <td id=\"T_1857d_row11_col3\" class=\"data row11 col3\" >0.0000</td>\n",
              "      <td id=\"T_1857d_row11_col4\" class=\"data row11 col4\" >0.0000</td>\n",
              "      <td id=\"T_1857d_row11_col5\" class=\"data row11 col5\" >0.0000</td>\n",
              "      <td id=\"T_1857d_row11_col6\" class=\"data row11 col6\" >0.0000</td>\n",
              "      <td id=\"T_1857d_row11_col7\" class=\"data row11 col7\" >0.0000</td>\n",
              "      <td id=\"T_1857d_row11_col8\" class=\"data row11 col8\" >0.0270</td>\n",
              "    </tr>\n",
              "    <tr>\n",
              "      <th id=\"T_1857d_level0_row12\" class=\"row_heading level0 row12\" >nb</th>\n",
              "      <td id=\"T_1857d_row12_col0\" class=\"data row12 col0\" >Naive Bayes</td>\n",
              "      <td id=\"T_1857d_row12_col1\" class=\"data row12 col1\" >0.8878</td>\n",
              "      <td id=\"T_1857d_row12_col2\" class=\"data row12 col2\" >0.9298</td>\n",
              "      <td id=\"T_1857d_row12_col3\" class=\"data row12 col3\" >0.5879</td>\n",
              "      <td id=\"T_1857d_row12_col4\" class=\"data row12 col4\" >0.4352</td>\n",
              "      <td id=\"T_1857d_row12_col5\" class=\"data row12 col5\" >0.4976</td>\n",
              "      <td id=\"T_1857d_row12_col6\" class=\"data row12 col6\" >0.4362</td>\n",
              "      <td id=\"T_1857d_row12_col7\" class=\"data row12 col7\" >0.4441</td>\n",
              "      <td id=\"T_1857d_row12_col8\" class=\"data row12 col8\" >0.0610</td>\n",
              "    </tr>\n",
              "    <tr>\n",
              "      <th id=\"T_1857d_level0_row13\" class=\"row_heading level0 row13\" >svm</th>\n",
              "      <td id=\"T_1857d_row13_col0\" class=\"data row13 col0\" >SVM - Linear Kernel</td>\n",
              "      <td id=\"T_1857d_row13_col1\" class=\"data row13 col1\" >0.6618</td>\n",
              "      <td id=\"T_1857d_row13_col2\" class=\"data row13 col2\" >0.0000</td>\n",
              "      <td id=\"T_1857d_row13_col3\" class=\"data row13 col3\" >0.3000</td>\n",
              "      <td id=\"T_1857d_row13_col4\" class=\"data row13 col4\" >0.0289</td>\n",
              "      <td id=\"T_1857d_row13_col5\" class=\"data row13 col5\" >0.0528</td>\n",
              "      <td id=\"T_1857d_row13_col6\" class=\"data row13 col6\" >0.0000</td>\n",
              "      <td id=\"T_1857d_row13_col7\" class=\"data row13 col7\" >0.0000</td>\n",
              "      <td id=\"T_1857d_row13_col8\" class=\"data row13 col8\" >0.0810</td>\n",
              "    </tr>\n",
              "  </tbody>\n",
              "</table>\n"
            ]
          },
          "metadata": {}
        },
        {
          "output_type": "display_data",
          "data": {
            "text/plain": [
              "Processing:   0%|          | 0/61 [00:00<?, ?it/s]"
            ],
            "application/vnd.jupyter.widget-view+json": {
              "version_major": 2,
              "version_minor": 0,
              "model_id": "a05e8d8e158b4f5099b9d4bed04d254f"
            }
          },
          "metadata": {
            "application/vnd.jupyter.widget-view+json": {
              "colab": {
                "custom_widget_manager": {
                  "url": "https://ssl.gstatic.com/colaboratory-static/widgets/colab-cdn-widget-manager/a8874ba6619b6106/manager.min.js"
                }
              }
            }
          }
        },
        {
          "output_type": "display_data",
          "data": {
            "text/plain": [
              "<IPython.core.display.HTML object>"
            ],
            "text/html": [
              ""
            ]
          },
          "metadata": {}
        },
        {
          "output_type": "execute_result",
          "data": {
            "text/plain": [
              "GradientBoostingClassifier(ccp_alpha=0.0, criterion='friedman_mse', init=None,\n",
              "                           learning_rate=0.1, loss='deviance', max_depth=3,\n",
              "                           max_features=None, max_leaf_nodes=None,\n",
              "                           min_impurity_decrease=0.0, min_samples_leaf=1,\n",
              "                           min_samples_split=2, min_weight_fraction_leaf=0.0,\n",
              "                           n_estimators=100, n_iter_no_change=None,\n",
              "                           random_state=1896, subsample=1.0, tol=0.0001,\n",
              "                           validation_fraction=0.1, verbose=0,\n",
              "                           warm_start=False)"
            ]
          },
          "metadata": {},
          "execution_count": 9
        }
      ],
      "source": [
        "# OLha o TESOURO: Comparando diversas Máquinas Preditivas\n",
        "classification.compare_models()"
      ]
    },
    {
      "cell_type": "code",
      "execution_count": 10,
      "metadata": {
        "colab": {
          "base_uri": "https://localhost:8080/",
          "height": 294
        },
        "id": "Srf0x6K4D8AD",
        "outputId": "5cf84d98-88f7-4422-e83c-dc2c09334cf1"
      },
      "outputs": [
        {
          "output_type": "display_data",
          "data": {
            "text/plain": [
              "<IPython.core.display.HTML object>"
            ],
            "text/html": [
              ""
            ]
          },
          "metadata": {}
        },
        {
          "output_type": "display_data",
          "data": {
            "text/plain": [
              "<Figure size 432x288 with 1 Axes>"
            ],
            "image/png": "[encoded data removed]"
          },
          "metadata": {
            "needs_background": "light"
          }
        }
      ],
      "source": [
        "# Gráfico AUC-ROC \n",
        "classification.plot_model(classification_dt, plot = 'auc')"
      ]
    },
    {
      "cell_type": "code",
      "execution_count": 11,
      "metadata": {
        "colab": {
          "base_uri": "https://localhost:8080/",
          "height": 294
        },
        "id": "A5etQj28D8FO",
        "outputId": "fce275a5-edea-43e8-fed6-b84be31af8b4"
      },
      "outputs": [
        {
          "output_type": "display_data",
          "data": {
            "text/plain": [
              "<IPython.core.display.HTML object>"
            ],
            "text/html": [
              ""
            ]
          },
          "metadata": {}
        },
        {
          "output_type": "display_data",
          "data": {
            "text/plain": [
              "<Figure size 432x288 with 1 Axes>"
            ],
            "image/png": "[encoded data removed]"
          },
          "metadata": {
            "needs_background": "light"
          }
        }
      ],
      "source": [
        "# Curva Precision Recall\n",
        "classification.plot_model(classification_dt, plot = 'pr')"
      ]
    },
    {
      "cell_type": "code",
      "execution_count": 12,
      "metadata": {
        "colab": {
          "base_uri": "https://localhost:8080/",
          "height": 294
        },
        "id": "Ci0l6wrFD8Hi",
        "outputId": "3197cab7-ddee-4e75-d29c-f9b63e4f28f7"
      },
      "outputs": [
        {
          "output_type": "display_data",
          "data": {
            "text/plain": [
              "<IPython.core.display.HTML object>"
            ],
            "text/html": [
              ""
            ]
          },
          "metadata": {}
        },
        {
          "output_type": "display_data",
          "data": {
            "text/plain": [
              "<Figure size 432x288 with 1 Axes>"
            ],
            "image/png": "[encoded data removed]"
          },
          "metadata": {
            "needs_background": "light"
          }
        }
      ],
      "source": [
        "# Validation Curve\n",
        "classification.plot_model(classification_dt, plot = 'vc')"
      ]
    },
    {
      "cell_type": "code",
      "execution_count": 13,
      "metadata": {
        "colab": {
          "base_uri": "https://localhost:8080/",
          "height": 478
        },
        "id": "o9q35h3ND8Jk",
        "outputId": "f7306ded-10c3-4e1d-b3fe-735d49c9bd2f"
      },
      "outputs": [
        {
          "output_type": "display_data",
          "data": {
            "text/plain": [
              "<IPython.core.display.HTML object>"
            ],
            "text/html": [
              ""
            ]
          },
          "metadata": {}
        },
        {
          "output_type": "display_data",
          "data": {
            "text/plain": [
              "<Figure size 800x500 with 1 Axes>"
            ],
            "image/png": "[encoded data removed]"
          },
          "metadata": {
            "needs_background": "light"
          }
        }
      ],
      "source": [
        "# Importância das Variáveis\n",
        "classification.plot_model(classification_dt, plot = 'feature')"
      ]
    },
    {
      "cell_type": "code",
      "execution_count": 14,
      "metadata": {
        "colab": {
          "base_uri": "https://localhost:8080/",
          "height": 297
        },
        "id": "FErrv2yfD8N7",
        "outputId": "72ec52e6-22d6-4f2c-8ae1-521e2dc703ea"
      },
      "outputs": [
        {
          "output_type": "display_data",
          "data": {
            "text/plain": [
              "<IPython.core.display.HTML object>"
            ],
            "text/html": [
              ""
            ]
          },
          "metadata": {}
        },
        {
          "output_type": "display_data",
          "data": {
            "text/plain": [
              "<Figure size 432x288 with 1 Axes>"
            ],
            "image/png": "[encoded data removed]"
          },
          "metadata": {
            "needs_background": "light"
          }
        }
      ],
      "source": [
        "# Confusion Matrix\n",
        "classification.plot_model(classification_dt, plot = 'confusion_matrix')"
      ]
    },
    {
      "cell_type": "code",
      "execution_count": 15,
      "metadata": {
        "colab": {
          "base_uri": "https://localhost:8080/",
          "height": 1000,
          "referenced_widgets": [
            "4fa2b80cb2bf41d0b16cce417dd61b1e",
            "89c771302ab84d30b390803fff9636af",
            "2bdc031d1ad84535af826aab44a9ec57",
            "6278b1e0820f48e099f31ce58e198b03",
            "de7f3715fc514e1890e171a8a32d0946",
            "f141cff1ac81432494939fe17891ed89",
            "7980c0f09e44443ba1c8a60e339487fc"
          ]
        },
        "id": "cwCSQTzhELA1",
        "outputId": "56dbfcca-0b5a-414e-88bb-1d32628149d6"
      },
      "outputs": [
        {
          "output_type": "display_data",
          "data": {
            "text/plain": [
              "interactive(children=(ToggleButtons(description='Plot Type:', icons=('',), options=(('Pipeline Plot', 'pipelin…"
            ],
            "application/vnd.jupyter.widget-view+json": {
              "version_major": 2,
              "version_minor": 0,
              "model_id": "4fa2b80cb2bf41d0b16cce417dd61b1e"
            }
          },
          "metadata": {
            "application/vnd.jupyter.widget-view+json": {
              "colab": {
                "custom_widget_manager": {
                  "url": "https://ssl.gstatic.com/colaboratory-static/widgets/colab-cdn-widget-manager/a8874ba6619b6106/manager.min.js"
                }
              }
            }
          }
        },
        {
          "output_type": "display_data",
          "data": {
            "text/plain": [
              "<Figure size 1200x600 with 1 Axes>"
            ],
            "image/png": "[encoded data removed]"
          },
          "metadata": {
            "needs_background": "light"
          }
        }
      ],
      "source": [
        "# Avaliação das Máquinas Preditivas\n",
        "classification.evaluate_model(classification_dt)"
      ]
    },
    {
      "cell_type": "markdown",
      "metadata": {
        "id": "JlHfpWYIftJZ"
      },
      "source": [
        "## Interpretabilidade dos Modelos (das Máquinas Preditivas)"
      ]
    },
    {
      "cell_type": "code",
      "execution_count": 16,
      "metadata": {
        "colab": {
          "base_uri": "https://localhost:8080/",
          "height": 492
        },
        "id": "lYXZMz3WELDe",
        "outputId": "e18f7d20-9746-4280-ba58-31455d852061"
      },
      "outputs": [
        {
          "output_type": "display_data",
          "data": {
            "text/plain": [
              "<Figure size 576x482.4 with 2 Axes>"
            ],
            "image/png": "[encoded data removed]"
          },
          "metadata": {
            "needs_background": "light"
          }
        }
      ],
      "source": [
        "# Usando a Biblioteca SHAP\n",
        "classification.interpret_model(classification_dt)"
      ]
    },
    {
      "cell_type": "markdown",
      "source": [
        "## Dados de Teste"
      ],
      "metadata": {
        "id": "nBp5703lIsCI"
      }
    },
    {
      "cell_type": "code",
      "execution_count": 17,
      "metadata": {
        "id": "zZBY7Mu8ELGD"
      },
      "outputs": [],
      "source": [
        "# novas previsão com novos dados\n",
        "test_data_classification = pd.read_csv('https://raw.githubusercontent.com/lakshay-arora/PyCaret-Example/master/datasets/loan_test_data.csv')"
      ]
    },
    {
      "cell_type": "code",
      "execution_count": 18,
      "metadata": {
        "colab": {
          "base_uri": "https://localhost:8080/",
          "height": 81
        },
        "id": "qOWJZELfELIN",
        "outputId": "0a1785aa-531d-482a-b413-fc0abd024bb6"
      },
      "outputs": [
        {
          "output_type": "display_data",
          "data": {
            "text/plain": [
              "<pandas.io.formats.style.Styler at 0x7f4daa18d3d0>"
            ],
            "text/html": [
              "<style type=\"text/css\">\n",
              "</style>\n",
              "<table id=\"T_9456f_\" class=\"dataframe\">\n",
              "  <thead>\n",
              "    <tr>\n",
              "      <th class=\"blank level0\" >&nbsp;</th>\n",
              "      <th class=\"col_heading level0 col0\" >Model</th>\n",
              "      <th class=\"col_heading level0 col1\" >Accuracy</th>\n",
              "      <th class=\"col_heading level0 col2\" >AUC</th>\n",
              "      <th class=\"col_heading level0 col3\" >Recall</th>\n",
              "      <th class=\"col_heading level0 col4\" >Prec.</th>\n",
              "      <th class=\"col_heading level0 col5\" >F1</th>\n",
              "      <th class=\"col_heading level0 col6\" >Kappa</th>\n",
              "      <th class=\"col_heading level0 col7\" >MCC</th>\n",
              "    </tr>\n",
              "  </thead>\n",
              "  <tbody>\n",
              "    <tr>\n",
              "      <th id=\"T_9456f_level0_row0\" class=\"row_heading level0 row0\" >0</th>\n",
              "      <td id=\"T_9456f_row0_col0\" class=\"data row0 col0\" >Decision Tree Classifier</td>\n",
              "      <td id=\"T_9456f_row0_col1\" class=\"data row0 col1\" >0.9790</td>\n",
              "      <td id=\"T_9456f_row0_col2\" class=\"data row0 col2\" >0.9372</td>\n",
              "      <td id=\"T_9456f_row0_col3\" class=\"data row0 col3\" >0.8854</td>\n",
              "      <td id=\"T_9456f_row0_col4\" class=\"data row0 col4\" >0.8947</td>\n",
              "      <td id=\"T_9456f_row0_col5\" class=\"data row0 col5\" >0.8901</td>\n",
              "      <td id=\"T_9456f_row0_col6\" class=\"data row0 col6\" >0.8784</td>\n",
              "      <td id=\"T_9456f_row0_col7\" class=\"data row0 col7\" >0.8785</td>\n",
              "    </tr>\n",
              "  </tbody>\n",
              "</table>\n"
            ]
          },
          "metadata": {}
        }
      ],
      "source": [
        "# Fazendo novas previsões\n",
        "predictions = classification.predict_model(classification_dt, data=test_data_classification)"
      ]
    },
    {
      "cell_type": "code",
      "execution_count": 19,
      "metadata": {
        "colab": {
          "base_uri": "https://localhost:8080/",
          "height": 485
        },
        "id": "B5z2iWOMELKU",
        "outputId": "9d5773e7-713b-4ed4-e764-391a06009808"
      },
      "outputs": [
        {
          "output_type": "execute_result",
          "data": {
            "text/plain": [
              "         ID   Age  Experience  Income  ZIP Code  Family  CCAvg  Education  \\\n",
              "0     118.0  58.0        33.0    61.0   92833.0     2.0    2.3        3.0   \n",
              "1    1817.0  45.0        19.0    91.0   92373.0     2.0    1.7        2.0   \n",
              "2     671.0  23.0        -1.0    61.0   92374.0     4.0    2.6        1.0   \n",
              "3    2994.0  65.0        40.0    20.0   92647.0     3.0    0.1        3.0   \n",
              "4    3265.0  67.0        41.0   114.0   95616.0     4.0    2.4        3.0   \n",
              "..      ...   ...         ...     ...       ...     ...    ...        ...   \n",
              "995  4331.0  62.0        37.0    44.0   90401.0     1.0    1.1        3.0   \n",
              "996  3221.0  61.0        35.0    28.0   93302.0     2.0    0.2        3.0   \n",
              "997  1932.0  28.0         2.0   140.0   92122.0     2.0    2.0        1.0   \n",
              "998  4960.0  51.0        27.0    55.0   93014.0     1.0    1.6        2.0   \n",
              "999  3985.0  34.0         8.0    18.0   95741.0     4.0    0.3        1.0   \n",
              "\n",
              "     Mortgage  Securities Account  CD Account  Online  CreditCard  \\\n",
              "0       193.0                 0.0         0.0     1.0         0.0   \n",
              "1         0.0                 1.0         0.0     1.0         0.0   \n",
              "2       239.0                 0.0         0.0     1.0         0.0   \n",
              "3         0.0                 0.0         0.0     0.0         1.0   \n",
              "4         0.0                 0.0         0.0     1.0         0.0   \n",
              "..        ...                 ...         ...     ...         ...   \n",
              "995       0.0                 0.0         0.0     0.0         0.0   \n",
              "996     135.0                 0.0         0.0     1.0         0.0   \n",
              "997       0.0                 0.0         0.0     1.0         0.0   \n",
              "998     197.0                 1.0         0.0     1.0         0.0   \n",
              "999       0.0                 0.0         0.0     0.0         0.0   \n",
              "\n",
              "     Personal Loan  Label  Score  \n",
              "0                0      0    1.0  \n",
              "1                0      0    1.0  \n",
              "2                0      0    1.0  \n",
              "3                0      0    1.0  \n",
              "4                0      0    1.0  \n",
              "..             ...    ...    ...  \n",
              "995              0      0    1.0  \n",
              "996              0      0    1.0  \n",
              "997              0      0    1.0  \n",
              "998              0      0    1.0  \n",
              "999              0      0    1.0  \n",
              "\n",
              "[1000 rows x 16 columns]"
            ],
            "text/html": [
              "\n",
              "  <div id=\"df-807afa3f-8596-4dbc-99f3-4efdb71ea55b\">\n",
              "    <div class=\"colab-df-container\">\n",
              "      <div>\n",
              "<style scoped>\n",
              "    .dataframe tbody tr th:only-of-type {\n",
              "        vertical-align: middle;\n",
              "    }\n",
              "\n",
              "    .dataframe tbody tr th {\n",
              "        vertical-align: top;\n",
              "    }\n",
              "\n",
              "    .dataframe thead th {\n",
              "        text-align: right;\n",
              "    }\n",
              "</style>\n",
              "<table border=\"1\" class=\"dataframe\">\n",
              "  <thead>\n",
              "    <tr style=\"text-align: right;\">\n",
              "      <th></th>\n",
              "      <th>ID</th>\n",
              "      <th>Age</th>\n",
              "      <th>Experience</th>\n",
              "      <th>Income</th>\n",
              "      <th>ZIP Code</th>\n",
              "      <th>Family</th>\n",
              "      <th>CCAvg</th>\n",
              "      <th>Education</th>\n",
              "      <th>Mortgage</th>\n",
              "      <th>Securities Account</th>\n",
              "      <th>CD Account</th>\n",
              "      <th>Online</th>\n",
              "      <th>CreditCard</th>\n",
              "      <th>Personal Loan</th>\n",
              "      <th>Label</th>\n",
              "      <th>Score</th>\n",
              "    </tr>\n",
              "  </thead>\n",
              "  <tbody>\n",
              "    <tr>\n",
              "      <th>0</th>\n",
              "      <td>118.0</td>\n",
              "      <td>58.0</td>\n",
              "      <td>33.0</td>\n",
              "      <td>61.0</td>\n",
              "      <td>92833.0</td>\n",
              "      <td>2.0</td>\n",
              "      <td>2.3</td>\n",
              "      <td>3.0</td>\n",
              "      <td>193.0</td>\n",
              "      <td>0.0</td>\n",
              "      <td>0.0</td>\n",
              "      <td>1.0</td>\n",
              "      <td>0.0</td>\n",
              "      <td>0</td>\n",
              "      <td>0</td>\n",
              "      <td>1.0</td>\n",
              "    </tr>\n",
              "    <tr>\n",
              "      <th>1</th>\n",
              "      <td>1817.0</td>\n",
              "      <td>45.0</td>\n",
              "      <td>19.0</td>\n",
              "      <td>91.0</td>\n",
              "      <td>92373.0</td>\n",
              "      <td>2.0</td>\n",
              "      <td>1.7</td>\n",
              "      <td>2.0</td>\n",
              "      <td>0.0</td>\n",
              "      <td>1.0</td>\n",
              "      <td>0.0</td>\n",
              "      <td>1.0</td>\n",
              "      <td>0.0</td>\n",
              "      <td>0</td>\n",
              "      <td>0</td>\n",
              "      <td>1.0</td>\n",
              "    </tr>\n",
              "    <tr>\n",
              "      <th>2</th>\n",
              "      <td>671.0</td>\n",
              "      <td>23.0</td>\n",
              "      <td>-1.0</td>\n",
              "      <td>61.0</td>\n",
              "      <td>92374.0</td>\n",
              "      <td>4.0</td>\n",
              "      <td>2.6</td>\n",
              "      <td>1.0</td>\n",
              "      <td>239.0</td>\n",
              "      <td>0.0</td>\n",
              "      <td>0.0</td>\n",
              "      <td>1.0</td>\n",
              "      <td>0.0</td>\n",
              "      <td>0</td>\n",
              "      <td>0</td>\n",
              "      <td>1.0</td>\n",
              "    </tr>\n",
              "    <tr>\n",
              "      <th>3</th>\n",
              "      <td>2994.0</td>\n",
              "      <td>65.0</td>\n",
              "      <td>40.0</td>\n",
              "      <td>20.0</td>\n",
              "      <td>92647.0</td>\n",
              "      <td>3.0</td>\n",
              "      <td>0.1</td>\n",
              "      <td>3.0</td>\n",
              "      <td>0.0</td>\n",
              "      <td>0.0</td>\n",
              "      <td>0.0</td>\n",
              "      <td>0.0</td>\n",
              "      <td>1.0</td>\n",
              "      <td>0</td>\n",
              "      <td>0</td>\n",
              "      <td>1.0</td>\n",
              "    </tr>\n",
              "    <tr>\n",
              "      <th>4</th>\n",
              "      <td>3265.0</td>\n",
              "      <td>67.0</td>\n",
              "      <td>41.0</td>\n",
              "      <td>114.0</td>\n",
              "      <td>95616.0</td>\n",
              "      <td>4.0</td>\n",
              "      <td>2.4</td>\n",
              "      <td>3.0</td>\n",
              "      <td>0.0</td>\n",
              "      <td>0.0</td>\n",
              "      <td>0.0</td>\n",
              "      <td>1.0</td>\n",
              "      <td>0.0</td>\n",
              "      <td>0</td>\n",
              "      <td>0</td>\n",
              "      <td>1.0</td>\n",
              "    </tr>\n",
              "    <tr>\n",
              "      <th>...</th>\n",
              "      <td>...</td>\n",
              "      <td>...</td>\n",
              "      <td>...</td>\n",
              "      <td>...</td>\n",
              "      <td>...</td>\n",
              "      <td>...</td>\n",
              "      <td>...</td>\n",
              "      <td>...</td>\n",
              "      <td>...</td>\n",
              "      <td>...</td>\n",
              "      <td>...</td>\n",
              "      <td>...</td>\n",
              "      <td>...</td>\n",
              "      <td>...</td>\n",
              "      <td>...</td>\n",
              "      <td>...</td>\n",
              "    </tr>\n",
              "    <tr>\n",
              "      <th>995</th>\n",
              "      <td>4331.0</td>\n",
              "      <td>62.0</td>\n",
              "      <td>37.0</td>\n",
              "      <td>44.0</td>\n",
              "      <td>90401.0</td>\n",
              "      <td>1.0</td>\n",
              "      <td>1.1</td>\n",
              "      <td>3.0</td>\n",
              "      <td>0.0</td>\n",
              "      <td>0.0</td>\n",
              "      <td>0.0</td>\n",
              "      <td>0.0</td>\n",
              "      <td>0.0</td>\n",
              "      <td>0</td>\n",
              "      <td>0</td>\n",
              "      <td>1.0</td>\n",
              "    </tr>\n",
              "    <tr>\n",
              "      <th>996</th>\n",
              "      <td>3221.0</td>\n",
              "      <td>61.0</td>\n",
              "      <td>35.0</td>\n",
              "      <td>28.0</td>\n",
              "      <td>93302.0</td>\n",
              "      <td>2.0</td>\n",
              "      <td>0.2</td>\n",
              "      <td>3.0</td>\n",
              "      <td>135.0</td>\n",
              "      <td>0.0</td>\n",
              "      <td>0.0</td>\n",
              "      <td>1.0</td>\n",
              "      <td>0.0</td>\n",
              "      <td>0</td>\n",
              "      <td>0</td>\n",
              "      <td>1.0</td>\n",
              "    </tr>\n",
              "    <tr>\n",
              "      <th>997</th>\n",
              "      <td>1932.0</td>\n",
              "      <td>28.0</td>\n",
              "      <td>2.0</td>\n",
              "      <td>140.0</td>\n",
              "      <td>92122.0</td>\n",
              "      <td>2.0</td>\n",
              "      <td>2.0</td>\n",
              "      <td>1.0</td>\n",
              "      <td>0.0</td>\n",
              "      <td>0.0</td>\n",
              "      <td>0.0</td>\n",
              "      <td>1.0</td>\n",
              "      <td>0.0</td>\n",
              "      <td>0</td>\n",
              "      <td>0</td>\n",
              "      <td>1.0</td>\n",
              "    </tr>\n",
              "    <tr>\n",
              "      <th>998</th>\n",
              "      <td>4960.0</td>\n",
              "      <td>51.0</td>\n",
              "      <td>27.0</td>\n",
              "      <td>55.0</td>\n",
              "      <td>93014.0</td>\n",
              "      <td>1.0</td>\n",
              "      <td>1.6</td>\n",
              "      <td>2.0</td>\n",
              "      <td>197.0</td>\n",
              "      <td>1.0</td>\n",
              "      <td>0.0</td>\n",
              "      <td>1.0</td>\n",
              "      <td>0.0</td>\n",
              "      <td>0</td>\n",
              "      <td>0</td>\n",
              "      <td>1.0</td>\n",
              "    </tr>\n",
              "    <tr>\n",
              "      <th>999</th>\n",
              "      <td>3985.0</td>\n",
              "      <td>34.0</td>\n",
              "      <td>8.0</td>\n",
              "      <td>18.0</td>\n",
              "      <td>95741.0</td>\n",
              "      <td>4.0</td>\n",
              "      <td>0.3</td>\n",
              "      <td>1.0</td>\n",
              "      <td>0.0</td>\n",
              "      <td>0.0</td>\n",
              "      <td>0.0</td>\n",
              "      <td>0.0</td>\n",
              "      <td>0.0</td>\n",
              "      <td>0</td>\n",
              "      <td>0</td>\n",
              "      <td>1.0</td>\n",
              "    </tr>\n",
              "  </tbody>\n",
              "</table>\n",
              "<p>1000 rows × 16 columns</p>\n",
              "</div>\n",
              "      <button class=\"colab-df-convert\" onclick=\"convertToInteractive('df-807afa3f-8596-4dbc-99f3-4efdb71ea55b')\"\n",
              "              title=\"Convert this dataframe to an interactive table.\"\n",
              "              style=\"display:none;\">\n",
              "        \n",
              "  <svg xmlns=\"http://www.w3.org/2000/svg\" height=\"24px\"viewBox=\"0 0 24 24\"\n",
              "       width=\"24px\">\n",
              "    <path d=\"M0 0h24v24H0V0z\" fill=\"none\"/>\n",
              "    <path d=\"M18.56 5.44l.94 2.06.94-2.06 2.06-.94-2.06-.94-.94-2.06-.94 2.06-2.06.94zm-11 1L8.5 8.5l.94-2.06 2.06-.94-2.06-.94L8.5 2.5l-.94 2.06-2.06.94zm10 10l.94 2.06.94-2.06 2.06-.94-2.06-.94-.94-2.06-.94 2.06-2.06.94z\"/><path d=\"M17.41 7.96l-1.37-1.37c-.4-.4-.92-.59-1.43-.59-.52 0-1.04.2-1.43.59L10.3 9.45l-7.72 7.72c-.78.78-.78 2.05 0 2.83L4 21.41c.39.39.9.59 1.41.59.51 0 1.02-.2 1.41-.59l7.78-7.78 2.81-2.81c.8-.78.8-2.07 0-2.86zM5.41 20L4 18.59l7.72-7.72 1.47 1.35L5.41 20z\"/>\n",
              "  </svg>\n",
              "      </button>\n",
              "      \n",
              "  <style>\n",
              "    .colab-df-container {\n",
              "      display:flex;\n",
              "      flex-wrap:wrap;\n",
              "      gap: 12px;\n",
              "    }\n",
              "\n",
              "    .colab-df-convert {\n",
              "      background-color: #E8F0FE;\n",
              "      border: none;\n",
              "      border-radius: 50%;\n",
              "      cursor: pointer;\n",
              "      display: none;\n",
              "      fill: #1967D2;\n",
              "      height: 32px;\n",
              "      padding: 0 0 0 0;\n",
              "      width: 32px;\n",
              "    }\n",
              "\n",
              "    .colab-df-convert:hover {\n",
              "      background-color: #E2EBFA;\n",
              "      box-shadow: 0px 1px 2px rgba(60, 64, 67, 0.3), 0px 1px 3px 1px rgba(60, 64, 67, 0.15);\n",
              "      fill: #174EA6;\n",
              "    }\n",
              "\n",
              "    [theme=dark] .colab-df-convert {\n",
              "      background-color: #3B4455;\n",
              "      fill: #D2E3FC;\n",
              "    }\n",
              "\n",
              "    [theme=dark] .colab-df-convert:hover {\n",
              "      background-color: #434B5C;\n",
              "      box-shadow: 0px 1px 3px 1px rgba(0, 0, 0, 0.15);\n",
              "      filter: drop-shadow(0px 1px 2px rgba(0, 0, 0, 0.3));\n",
              "      fill: #FFFFFF;\n",
              "    }\n",
              "  </style>\n",
              "\n",
              "      <script>\n",
              "        const buttonEl =\n",
              "          document.querySelector('#df-807afa3f-8596-4dbc-99f3-4efdb71ea55b button.colab-df-convert');\n",
              "        buttonEl.style.display =\n",
              "          google.colab.kernel.accessAllowed ? 'block' : 'none';\n",
              "\n",
              "        async function convertToInteractive(key) {\n",
              "          const element = document.querySelector('#df-807afa3f-8596-4dbc-99f3-4efdb71ea55b');\n",
              "          const dataTable =\n",
              "            await google.colab.kernel.invokeFunction('convertToInteractive',\n",
              "                                                     [key], {});\n",
              "          if (!dataTable) return;\n",
              "\n",
              "          const docLinkHtml = 'Like what you see? Visit the ' +\n",
              "            '<a target=\"_blank\" href=https://colab.research.google.com/notebooks/data_table.ipynb>data table notebook</a>'\n",
              "            + ' to learn more about interactive tables.';\n",
              "          element.innerHTML = '';\n",
              "          dataTable['output_type'] = 'display_data';\n",
              "          await google.colab.output.renderOutput(dataTable, element);\n",
              "          const docLink = document.createElement('div');\n",
              "          docLink.innerHTML = docLinkHtml;\n",
              "          element.appendChild(docLink);\n",
              "        }\n",
              "      </script>\n",
              "    </div>\n",
              "  </div>\n",
              "  "
            ]
          },
          "metadata": {},
          "execution_count": 19
        }
      ],
      "source": [
        "# Imprimindo na tela as novas predições\n",
        "predictions"
      ]
    },
    {
      "cell_type": "code",
      "execution_count": 20,
      "metadata": {
        "colab": {
          "base_uri": "https://localhost:8080/"
        },
        "id": "Q-iNFr8yELMu",
        "outputId": "91375979-15b9-44a3-ecfb-98c9c234e8a0"
      },
      "outputs": [
        {
          "output_type": "stream",
          "name": "stdout",
          "text": [
            "Transformation Pipeline and Model Successfully Saved\n"
          ]
        },
        {
          "output_type": "execute_result",
          "data": {
            "text/plain": [
              "(Pipeline(memory=Memory(location=/tmp/joblib),\n",
              "          steps=[('numerical_imputer',\n",
              "                  TransformerWrapper(exclude=None, include=['ID', 'Age', 'Experience', 'Income', 'ZIP Code', 'Family', 'CCAvg', 'Education', 'Mortgage', 'Securities Account', 'CD Account', 'Online', 'CreditCard'], transformer=SimpleImputer(add_indicator=False, copy=True, fill_value=None, missing_values=nan, strateg...\n",
              "                  TransformerWrapper(exclude=None, include=[], transformer=SimpleImputer(add_indicator=False, copy=True, fill_value='constant', missing_values=nan, strategy='constant', verbose=0))),\n",
              "                 ['trained_model',\n",
              "                  DecisionTreeClassifier(ccp_alpha=0.0, class_weight=None,\n",
              "                                         criterion='gini', max_depth=None,\n",
              "                                         max_features=None, max_leaf_nodes=None,\n",
              "                                         min_impurity_decrease=0.0,\n",
              "                                         min_samples_leaf=1, min_samples_split=2,\n",
              "                                         min_weight_fraction_leaf=0.0,\n",
              "                                         random_state=1896, splitter='best')]],\n",
              "          verbose=False), 'decision_tree_1.pkl')"
            ]
          },
          "metadata": {},
          "execution_count": 20
        }
      ],
      "source": [
        "# Salvando a Máquina Preditiva Final\n",
        "classification.save_model(classification_dt, 'decision_tree_1')"
      ]
    },
    {
      "cell_type": "code",
      "execution_count": 21,
      "metadata": {
        "colab": {
          "base_uri": "https://localhost:8080/"
        },
        "id": "5zMKdp0SELO3",
        "outputId": "f87357a8-c29e-4e18-bc22-8b56c092702a"
      },
      "outputs": [
        {
          "output_type": "stream",
          "name": "stdout",
          "text": [
            "Transformation Pipeline and Model Successfully Loaded\n"
          ]
        }
      ],
      "source": [
        "# Carregando para Usar a Máquina Preditiva Final. Aqui é onde a Aplicação, depois de Criada, vai trabalhar...\n",
        "dt_model = classification.load_model(model_name='decision_tree_1')"
      ]
    },
    {
      "cell_type": "markdown",
      "metadata": {
        "id": "m2ASxwx3Kugr"
      },
      "source": [
        "A interpretabilidade continua sendo um aspecto muito importante do aprendizado de máquina e da ciência de dados à medida que modelos mais complexos são colocados em produção. **LIME e [Shapley](https://github.com/slundberg/shap/blob/master/notebooks/api_examples/explainers/Exact.ipynb)** são dois desses métodos que começaram a ter alguma adoção na indústria."
      ]
    },
    {
      "cell_type": "markdown",
      "metadata": {
        "id": "MInLvci_OW6M"
      },
      "source": [
        "Fonte:\n",
        "\n",
        "https://www.analyticsvidhya.com/blog/2020/05/pycaret-machine-learning-model-seconds/"
      ]
    }
  ],
  "metadata": {
    "colab": {
      "collapsed_sections": [],
      "name": "Pycaret | Machine Learning.ipynb",
      "provenance": []
    },
    "kernelspec": {
      "display_name": "Python 3.10.0 64-bit",
      "language": "python",
      "name": "python3"
    },
    "language_info": {
      "codemirror_mode": {
        "name": "ipython",
        "version": 3
      },
      "file_extension": ".py",
      "mimetype": "text/x-python",
      "name": "python",
      "nbconvert_exporter": "python",
      "pygments_lexer": "ipython3",
      "version": "3.10.0"
    },
    "vscode": {
      "interpreter": {
        "hash": "58d94d347b29ec1922be5bacfcebc4e424e9f3a60967d1284cf381c2271ac53c"
      }
    },
    "widgets": {
      "application/vnd.jupyter.widget-state+json": {
        "24920ecb68c047dc9306695a0e08ee56": {
          "model_module": "@jupyter-widgets/controls",
          "model_name": "HBoxModel",
          "model_module_version": "1.5.0",
          "state": {
            "_dom_classes": [],
            "_model_module": "@jupyter-widgets/controls",
            "_model_module_version": "1.5.0",
            "_model_name": "HBoxModel",
            "_view_count": null,
            "_view_module": "@jupyter-widgets/controls",
            "_view_module_version": "1.5.0",
            "_view_name": "HBoxView",
            "box_style": "",
            "children": [
              "IPY_MODEL_e5b66d927fd043a39a10e30875fb06ac",
              "IPY_MODEL_d98271dd31824baab89b2a2e7d672d19",
              "IPY_MODEL_fdf6ba694bc44ae28e91dba89fdd7b83"
            ],
            "layout": "IPY_MODEL_79de6319b23e4a88ab9269be28e0b8f3"
          }
        },
        "e5b66d927fd043a39a10e30875fb06ac": {
          "model_module": "@jupyter-widgets/controls",
          "model_name": "HTMLModel",
          "model_module_version": "1.5.0",
          "state": {
            "_dom_classes": [],
            "_model_module": "@jupyter-widgets/controls",
            "_model_module_version": "1.5.0",
            "_model_name": "HTMLModel",
            "_view_count": null,
            "_view_module": "@jupyter-widgets/controls",
            "_view_module_version": "1.5.0",
            "_view_name": "HTMLView",
            "description": "",
            "description_tooltip": null,
            "layout": "IPY_MODEL_4440f96ebcf34a5ca0fce5b92275fa52",
            "placeholder": "​",
            "style": "IPY_MODEL_67fe8b0c1efb4ef59021edfabd5c07ee",
            "value": "Processing: 100%"
          }
        },
        "d98271dd31824baab89b2a2e7d672d19": {
          "model_module": "@jupyter-widgets/controls",
          "model_name": "FloatProgressModel",
          "model_module_version": "1.5.0",
          "state": {
            "_dom_classes": [],
            "_model_module": "@jupyter-widgets/controls",
            "_model_module_version": "1.5.0",
            "_model_name": "FloatProgressModel",
            "_view_count": null,
            "_view_module": "@jupyter-widgets/controls",
            "_view_module_version": "1.5.0",
            "_view_name": "ProgressView",
            "bar_style": "",
            "description": "",
            "description_tooltip": null,
            "layout": "IPY_MODEL_77436d5b6aa641bcb744e680393b2ed3",
            "max": 4,
            "min": 0,
            "orientation": "horizontal",
            "style": "IPY_MODEL_5b73197764ea44e189e24015169dc1bb",
            "value": 4
          }
        },
        "fdf6ba694bc44ae28e91dba89fdd7b83": {
          "model_module": "@jupyter-widgets/controls",
          "model_name": "HTMLModel",
          "model_module_version": "1.5.0",
          "state": {
            "_dom_classes": [],
            "_model_module": "@jupyter-widgets/controls",
            "_model_module_version": "1.5.0",
            "_model_name": "HTMLModel",
            "_view_count": null,
            "_view_module": "@jupyter-widgets/controls",
            "_view_module_version": "1.5.0",
            "_view_name": "HTMLView",
            "description": "",
            "description_tooltip": null,
            "layout": "IPY_MODEL_b85a4721fa664004b0b1f130fc6412e9",
            "placeholder": "​",
            "style": "IPY_MODEL_8745ed0076a84c199732fa3ccf280997",
            "value": " 4/4 [00:05&lt;00:00,  1.24s/it]"
          }
        },
        "79de6319b23e4a88ab9269be28e0b8f3": {
          "model_module": "@jupyter-widgets/base",
          "model_name": "LayoutModel",
          "model_module_version": "1.2.0",
          "state": {
            "_model_module": "@jupyter-widgets/base",
            "_model_module_version": "1.2.0",
            "_model_name": "LayoutModel",
            "_view_count": null,
            "_view_module": "@jupyter-widgets/base",
            "_view_module_version": "1.2.0",
            "_view_name": "LayoutView",
            "align_content": null,
            "align_items": null,
            "align_self": null,
            "border": null,
            "bottom": null,
            "display": null,
            "flex": null,
            "flex_flow": null,
            "grid_area": null,
            "grid_auto_columns": null,
            "grid_auto_flow": null,
            "grid_auto_rows": null,
            "grid_column": null,
            "grid_gap": null,
            "grid_row": null,
            "grid_template_areas": null,
            "grid_template_columns": null,
            "grid_template_rows": null,
            "height": null,
            "justify_content": null,
            "justify_items": null,
            "left": null,
            "margin": null,
            "max_height": null,
            "max_width": null,
            "min_height": null,
            "min_width": null,
            "object_fit": null,
            "object_position": null,
            "order": null,
            "overflow": null,
            "overflow_x": null,
            "overflow_y": null,
            "padding": null,
            "right": null,
            "top": null,
            "visibility": null,
            "width": null
          }
        },
        "4440f96ebcf34a5ca0fce5b92275fa52": {
          "model_module": "@jupyter-widgets/base",
          "model_name": "LayoutModel",
          "model_module_version": "1.2.0",
          "state": {
            "_model_module": "@jupyter-widgets/base",
            "_model_module_version": "1.2.0",
            "_model_name": "LayoutModel",
            "_view_count": null,
            "_view_module": "@jupyter-widgets/base",
            "_view_module_version": "1.2.0",
            "_view_name": "LayoutView",
            "align_content": null,
            "align_items": null,
            "align_self": null,
            "border": null,
            "bottom": null,
            "display": null,
            "flex": null,
            "flex_flow": null,
            "grid_area": null,
            "grid_auto_columns": null,
            "grid_auto_flow": null,
            "grid_auto_rows": null,
            "grid_column": null,
            "grid_gap": null,
            "grid_row": null,
            "grid_template_areas": null,
            "grid_template_columns": null,
            "grid_template_rows": null,
            "height": null,
            "justify_content": null,
            "justify_items": null,
            "left": null,
            "margin": null,
            "max_height": null,
            "max_width": null,
            "min_height": null,
            "min_width": null,
            "object_fit": null,
            "object_position": null,
            "order": null,
            "overflow": null,
            "overflow_x": null,
            "overflow_y": null,
            "padding": null,
            "right": null,
            "top": null,
            "visibility": null,
            "width": null
          }
        },
        "67fe8b0c1efb4ef59021edfabd5c07ee": {
          "model_module": "@jupyter-widgets/controls",
          "model_name": "DescriptionStyleModel",
          "model_module_version": "1.5.0",
          "state": {
            "_model_module": "@jupyter-widgets/controls",
            "_model_module_version": "1.5.0",
            "_model_name": "DescriptionStyleModel",
            "_view_count": null,
            "_view_module": "@jupyter-widgets/base",
            "_view_module_version": "1.2.0",
            "_view_name": "StyleView",
            "description_width": ""
          }
        },
        "77436d5b6aa641bcb744e680393b2ed3": {
          "model_module": "@jupyter-widgets/base",
          "model_name": "LayoutModel",
          "model_module_version": "1.2.0",
          "state": {
            "_model_module": "@jupyter-widgets/base",
            "_model_module_version": "1.2.0",
            "_model_name": "LayoutModel",
            "_view_count": null,
            "_view_module": "@jupyter-widgets/base",
            "_view_module_version": "1.2.0",
            "_view_name": "LayoutView",
            "align_content": null,
            "align_items": null,
            "align_self": null,
            "border": null,
            "bottom": null,
            "display": null,
            "flex": null,
            "flex_flow": null,
            "grid_area": null,
            "grid_auto_columns": null,
            "grid_auto_flow": null,
            "grid_auto_rows": null,
            "grid_column": null,
            "grid_gap": null,
            "grid_row": null,
            "grid_template_areas": null,
            "grid_template_columns": null,
            "grid_template_rows": null,
            "height": null,
            "justify_content": null,
            "justify_items": null,
            "left": null,
            "margin": null,
            "max_height": null,
            "max_width": null,
            "min_height": null,
            "min_width": null,
            "object_fit": null,
            "object_position": null,
            "order": null,
            "overflow": null,
            "overflow_x": null,
            "overflow_y": null,
            "padding": null,
            "right": null,
            "top": null,
            "visibility": null,
            "width": null
          }
        },
        "5b73197764ea44e189e24015169dc1bb": {
          "model_module": "@jupyter-widgets/controls",
          "model_name": "ProgressStyleModel",
          "model_module_version": "1.5.0",
          "state": {
            "_model_module": "@jupyter-widgets/controls",
            "_model_module_version": "1.5.0",
            "_model_name": "ProgressStyleModel",
            "_view_count": null,
            "_view_module": "@jupyter-widgets/base",
            "_view_module_version": "1.2.0",
            "_view_name": "StyleView",
            "bar_color": null,
            "description_width": ""
          }
        },
        "b85a4721fa664004b0b1f130fc6412e9": {
          "model_module": "@jupyter-widgets/base",
          "model_name": "LayoutModel",
          "model_module_version": "1.2.0",
          "state": {
            "_model_module": "@jupyter-widgets/base",
            "_model_module_version": "1.2.0",
            "_model_name": "LayoutModel",
            "_view_count": null,
            "_view_module": "@jupyter-widgets/base",
            "_view_module_version": "1.2.0",
            "_view_name": "LayoutView",
            "align_content": null,
            "align_items": null,
            "align_self": null,
            "border": null,
            "bottom": null,
            "display": null,
            "flex": null,
            "flex_flow": null,
            "grid_area": null,
            "grid_auto_columns": null,
            "grid_auto_flow": null,
            "grid_auto_rows": null,
            "grid_column": null,
            "grid_gap": null,
            "grid_row": null,
            "grid_template_areas": null,
            "grid_template_columns": null,
            "grid_template_rows": null,
            "height": null,
            "justify_content": null,
            "justify_items": null,
            "left": null,
            "margin": null,
            "max_height": null,
            "max_width": null,
            "min_height": null,
            "min_width": null,
            "object_fit": null,
            "object_position": null,
            "order": null,
            "overflow": null,
            "overflow_x": null,
            "overflow_y": null,
            "padding": null,
            "right": null,
            "top": null,
            "visibility": null,
            "width": null
          }
        },
        "8745ed0076a84c199732fa3ccf280997": {
          "model_module": "@jupyter-widgets/controls",
          "model_name": "DescriptionStyleModel",
          "model_module_version": "1.5.0",
          "state": {
            "_model_module": "@jupyter-widgets/controls",
            "_model_module_version": "1.5.0",
            "_model_name": "DescriptionStyleModel",
            "_view_count": null,
            "_view_module": "@jupyter-widgets/base",
            "_view_module_version": "1.2.0",
            "_view_name": "StyleView",
            "description_width": ""
          }
        },
        "01cfa977561f4cf480d3d42c933b0ee5": {
          "model_module": "@jupyter-widgets/controls",
          "model_name": "HBoxModel",
          "model_module_version": "1.5.0",
          "state": {
            "_dom_classes": [],
            "_model_module": "@jupyter-widgets/controls",
            "_model_module_version": "1.5.0",
            "_model_name": "HBoxModel",
            "_view_count": null,
            "_view_module": "@jupyter-widgets/controls",
            "_view_module_version": "1.5.0",
            "_view_name": "HBoxView",
            "box_style": "",
            "children": [
              "IPY_MODEL_22ec5189a03e4b4fabedd855897cb6e9",
              "IPY_MODEL_a68d11f2b27043d1b72e76ec7ebf3f61",
              "IPY_MODEL_b8fceda6985a46bab68b8fac4e8d50c1"
            ],
            "layout": "IPY_MODEL_0f0aae5416bf425982815f4c38b2d5c7"
          }
        },
        "22ec5189a03e4b4fabedd855897cb6e9": {
          "model_module": "@jupyter-widgets/controls",
          "model_name": "HTMLModel",
          "model_module_version": "1.5.0",
          "state": {
            "_dom_classes": [],
            "_model_module": "@jupyter-widgets/controls",
            "_model_module_version": "1.5.0",
            "_model_name": "HTMLModel",
            "_view_count": null,
            "_view_module": "@jupyter-widgets/controls",
            "_view_module_version": "1.5.0",
            "_view_name": "HTMLView",
            "description": "",
            "description_tooltip": null,
            "layout": "IPY_MODEL_8e7371cb8d374a30a106f3e09b95eec7",
            "placeholder": "​",
            "style": "IPY_MODEL_6a5f3b32c863444aae8f6c1011dd1d3d",
            "value": "Processing:   0%"
          }
        },
        "a68d11f2b27043d1b72e76ec7ebf3f61": {
          "model_module": "@jupyter-widgets/controls",
          "model_name": "FloatProgressModel",
          "model_module_version": "1.5.0",
          "state": {
            "_dom_classes": [],
            "_model_module": "@jupyter-widgets/controls",
            "_model_module_version": "1.5.0",
            "_model_name": "FloatProgressModel",
            "_view_count": null,
            "_view_module": "@jupyter-widgets/controls",
            "_view_module_version": "1.5.0",
            "_view_name": "ProgressView",
            "bar_style": "",
            "description": "",
            "description_tooltip": null,
            "layout": "IPY_MODEL_8972cf0fca3d48d4a9b474e0515c3e47",
            "max": 6,
            "min": 0,
            "orientation": "horizontal",
            "style": "IPY_MODEL_3c729aaa5e0b4c82ba55278a56960800",
            "value": 6
          }
        },
        "b8fceda6985a46bab68b8fac4e8d50c1": {
          "model_module": "@jupyter-widgets/controls",
          "model_name": "HTMLModel",
          "model_module_version": "1.5.0",
          "state": {
            "_dom_classes": [],
            "_model_module": "@jupyter-widgets/controls",
            "_model_module_version": "1.5.0",
            "_model_name": "HTMLModel",
            "_view_count": null,
            "_view_module": "@jupyter-widgets/controls",
            "_view_module_version": "1.5.0",
            "_view_name": "HTMLView",
            "description": "",
            "description_tooltip": null,
            "layout": "IPY_MODEL_5d434c01428c4740a72a60d2228ac1ae",
            "placeholder": "​",
            "style": "IPY_MODEL_497435a35aca4f918f84e2e3c3e56ad3",
            "value": " 0/6 [00:00&lt;?, ?it/s]"
          }
        },
        "0f0aae5416bf425982815f4c38b2d5c7": {
          "model_module": "@jupyter-widgets/base",
          "model_name": "LayoutModel",
          "model_module_version": "1.2.0",
          "state": {
            "_model_module": "@jupyter-widgets/base",
            "_model_module_version": "1.2.0",
            "_model_name": "LayoutModel",
            "_view_count": null,
            "_view_module": "@jupyter-widgets/base",
            "_view_module_version": "1.2.0",
            "_view_name": "LayoutView",
            "align_content": null,
            "align_items": null,
            "align_self": null,
            "border": null,
            "bottom": null,
            "display": null,
            "flex": null,
            "flex_flow": null,
            "grid_area": null,
            "grid_auto_columns": null,
            "grid_auto_flow": null,
            "grid_auto_rows": null,
            "grid_column": null,
            "grid_gap": null,
            "grid_row": null,
            "grid_template_areas": null,
            "grid_template_columns": null,
            "grid_template_rows": null,
            "height": null,
            "justify_content": null,
            "justify_items": null,
            "left": null,
            "margin": null,
            "max_height": null,
            "max_width": null,
            "min_height": null,
            "min_width": null,
            "object_fit": null,
            "object_position": null,
            "order": null,
            "overflow": null,
            "overflow_x": null,
            "overflow_y": null,
            "padding": null,
            "right": null,
            "top": null,
            "visibility": null,
            "width": null
          }
        },
        "8e7371cb8d374a30a106f3e09b95eec7": {
          "model_module": "@jupyter-widgets/base",
          "model_name": "LayoutModel",
          "model_module_version": "1.2.0",
          "state": {
            "_model_module": "@jupyter-widgets/base",
            "_model_module_version": "1.2.0",
            "_model_name": "LayoutModel",
            "_view_count": null,
            "_view_module": "@jupyter-widgets/base",
            "_view_module_version": "1.2.0",
            "_view_name": "LayoutView",
            "align_content": null,
            "align_items": null,
            "align_self": null,
            "border": null,
            "bottom": null,
            "display": null,
            "flex": null,
            "flex_flow": null,
            "grid_area": null,
            "grid_auto_columns": null,
            "grid_auto_flow": null,
            "grid_auto_rows": null,
            "grid_column": null,
            "grid_gap": null,
            "grid_row": null,
            "grid_template_areas": null,
            "grid_template_columns": null,
            "grid_template_rows": null,
            "height": null,
            "justify_content": null,
            "justify_items": null,
            "left": null,
            "margin": null,
            "max_height": null,
            "max_width": null,
            "min_height": null,
            "min_width": null,
            "object_fit": null,
            "object_position": null,
            "order": null,
            "overflow": null,
            "overflow_x": null,
            "overflow_y": null,
            "padding": null,
            "right": null,
            "top": null,
            "visibility": null,
            "width": null
          }
        },
        "6a5f3b32c863444aae8f6c1011dd1d3d": {
          "model_module": "@jupyter-widgets/controls",
          "model_name": "DescriptionStyleModel",
          "model_module_version": "1.5.0",
          "state": {
            "_model_module": "@jupyter-widgets/controls",
            "_model_module_version": "1.5.0",
            "_model_name": "DescriptionStyleModel",
            "_view_count": null,
            "_view_module": "@jupyter-widgets/base",
            "_view_module_version": "1.2.0",
            "_view_name": "StyleView",
            "description_width": ""
          }
        },
        "8972cf0fca3d48d4a9b474e0515c3e47": {
          "model_module": "@jupyter-widgets/base",
          "model_name": "LayoutModel",
          "model_module_version": "1.2.0",
          "state": {
            "_model_module": "@jupyter-widgets/base",
            "_model_module_version": "1.2.0",
            "_model_name": "LayoutModel",
            "_view_count": null,
            "_view_module": "@jupyter-widgets/base",
            "_view_module_version": "1.2.0",
            "_view_name": "LayoutView",
            "align_content": null,
            "align_items": null,
            "align_self": null,
            "border": null,
            "bottom": null,
            "display": null,
            "flex": null,
            "flex_flow": null,
            "grid_area": null,
            "grid_auto_columns": null,
            "grid_auto_flow": null,
            "grid_auto_rows": null,
            "grid_column": null,
            "grid_gap": null,
            "grid_row": null,
            "grid_template_areas": null,
            "grid_template_columns": null,
            "grid_template_rows": null,
            "height": null,
            "justify_content": null,
            "justify_items": null,
            "left": null,
            "margin": null,
            "max_height": null,
            "max_width": null,
            "min_height": null,
            "min_width": null,
            "object_fit": null,
            "object_position": null,
            "order": null,
            "overflow": null,
            "overflow_x": null,
            "overflow_y": null,
            "padding": null,
            "right": null,
            "top": null,
            "visibility": null,
            "width": null
          }
        },
        "3c729aaa5e0b4c82ba55278a56960800": {
          "model_module": "@jupyter-widgets/controls",
          "model_name": "ProgressStyleModel",
          "model_module_version": "1.5.0",
          "state": {
            "_model_module": "@jupyter-widgets/controls",
            "_model_module_version": "1.5.0",
            "_model_name": "ProgressStyleModel",
            "_view_count": null,
            "_view_module": "@jupyter-widgets/base",
            "_view_module_version": "1.2.0",
            "_view_name": "StyleView",
            "bar_color": null,
            "description_width": ""
          }
        },
        "5d434c01428c4740a72a60d2228ac1ae": {
          "model_module": "@jupyter-widgets/base",
          "model_name": "LayoutModel",
          "model_module_version": "1.2.0",
          "state": {
            "_model_module": "@jupyter-widgets/base",
            "_model_module_version": "1.2.0",
            "_model_name": "LayoutModel",
            "_view_count": null,
            "_view_module": "@jupyter-widgets/base",
            "_view_module_version": "1.2.0",
            "_view_name": "LayoutView",
            "align_content": null,
            "align_items": null,
            "align_self": null,
            "border": null,
            "bottom": null,
            "display": null,
            "flex": null,
            "flex_flow": null,
            "grid_area": null,
            "grid_auto_columns": null,
            "grid_auto_flow": null,
            "grid_auto_rows": null,
            "grid_column": null,
            "grid_gap": null,
            "grid_row": null,
            "grid_template_areas": null,
            "grid_template_columns": null,
            "grid_template_rows": null,
            "height": null,
            "justify_content": null,
            "justify_items": null,
            "left": null,
            "margin": null,
            "max_height": null,
            "max_width": null,
            "min_height": null,
            "min_width": null,
            "object_fit": null,
            "object_position": null,
            "order": null,
            "overflow": null,
            "overflow_x": null,
            "overflow_y": null,
            "padding": null,
            "right": null,
            "top": null,
            "visibility": null,
            "width": null
          }
        },
        "497435a35aca4f918f84e2e3c3e56ad3": {
          "model_module": "@jupyter-widgets/controls",
          "model_name": "DescriptionStyleModel",
          "model_module_version": "1.5.0",
          "state": {
            "_model_module": "@jupyter-widgets/controls",
            "_model_module_version": "1.5.0",
            "_model_name": "DescriptionStyleModel",
            "_view_count": null,
            "_view_module": "@jupyter-widgets/base",
            "_view_module_version": "1.2.0",
            "_view_name": "StyleView",
            "description_width": ""
          }
        },
        "a05e8d8e158b4f5099b9d4bed04d254f": {
          "model_module": "@jupyter-widgets/controls",
          "model_name": "HBoxModel",
          "model_module_version": "1.5.0",
          "state": {
            "_dom_classes": [],
            "_model_module": "@jupyter-widgets/controls",
            "_model_module_version": "1.5.0",
            "_model_name": "HBoxModel",
            "_view_count": null,
            "_view_module": "@jupyter-widgets/controls",
            "_view_module_version": "1.5.0",
            "_view_name": "HBoxView",
            "box_style": "",
            "children": [
              "IPY_MODEL_a0c1202442c644c0a7f802f4e9517ddc",
              "IPY_MODEL_12bff6c308374a94b93100c76f45f247",
              "IPY_MODEL_0a5159d7214545d49e9e2c681f11f274"
            ],
            "layout": "IPY_MODEL_acfe49fb984844c1895827753162b5a0"
          }
        },
        "a0c1202442c644c0a7f802f4e9517ddc": {
          "model_module": "@jupyter-widgets/controls",
          "model_name": "HTMLModel",
          "model_module_version": "1.5.0",
          "state": {
            "_dom_classes": [],
            "_model_module": "@jupyter-widgets/controls",
            "_model_module_version": "1.5.0",
            "_model_name": "HTMLModel",
            "_view_count": null,
            "_view_module": "@jupyter-widgets/controls",
            "_view_module_version": "1.5.0",
            "_view_name": "HTMLView",
            "description": "",
            "description_tooltip": null,
            "layout": "IPY_MODEL_dcae9c64c02b4e399f9c4a451152640f",
            "placeholder": "​",
            "style": "IPY_MODEL_2e98d46a5013437683b00c63ae17b6fb",
            "value": "Processing: 100%"
          }
        },
        "12bff6c308374a94b93100c76f45f247": {
          "model_module": "@jupyter-widgets/controls",
          "model_name": "FloatProgressModel",
          "model_module_version": "1.5.0",
          "state": {
            "_dom_classes": [],
            "_model_module": "@jupyter-widgets/controls",
            "_model_module_version": "1.5.0",
            "_model_name": "FloatProgressModel",
            "_view_count": null,
            "_view_module": "@jupyter-widgets/controls",
            "_view_module_version": "1.5.0",
            "_view_name": "ProgressView",
            "bar_style": "",
            "description": "",
            "description_tooltip": null,
            "layout": "IPY_MODEL_c489e23acf044987830de2f07fe3f205",
            "max": 61,
            "min": 0,
            "orientation": "horizontal",
            "style": "IPY_MODEL_3990929a878a4e35a2c32fa8dc816451",
            "value": 61
          }
        },
        "0a5159d7214545d49e9e2c681f11f274": {
          "model_module": "@jupyter-widgets/controls",
          "model_name": "HTMLModel",
          "model_module_version": "1.5.0",
          "state": {
            "_dom_classes": [],
            "_model_module": "@jupyter-widgets/controls",
            "_model_module_version": "1.5.0",
            "_model_name": "HTMLModel",
            "_view_count": null,
            "_view_module": "@jupyter-widgets/controls",
            "_view_module_version": "1.5.0",
            "_view_name": "HTMLView",
            "description": "",
            "description_tooltip": null,
            "layout": "IPY_MODEL_6f8821cc25a4422e84212c2d7c765df2",
            "placeholder": "​",
            "style": "IPY_MODEL_9d6ff8eac1f34ba782d936bb2eafc300",
            "value": " 61/61 [00:31&lt;00:00,  3.09it/s]"
          }
        },
        "acfe49fb984844c1895827753162b5a0": {
          "model_module": "@jupyter-widgets/base",
          "model_name": "LayoutModel",
          "model_module_version": "1.2.0",
          "state": {
            "_model_module": "@jupyter-widgets/base",
            "_model_module_version": "1.2.0",
            "_model_name": "LayoutModel",
            "_view_count": null,
            "_view_module": "@jupyter-widgets/base",
            "_view_module_version": "1.2.0",
            "_view_name": "LayoutView",
            "align_content": null,
            "align_items": null,
            "align_self": null,
            "border": null,
            "bottom": null,
            "display": null,
            "flex": null,
            "flex_flow": null,
            "grid_area": null,
            "grid_auto_columns": null,
            "grid_auto_flow": null,
            "grid_auto_rows": null,
            "grid_column": null,
            "grid_gap": null,
            "grid_row": null,
            "grid_template_areas": null,
            "grid_template_columns": null,
            "grid_template_rows": null,
            "height": null,
            "justify_content": null,
            "justify_items": null,
            "left": null,
            "margin": null,
            "max_height": null,
            "max_width": null,
            "min_height": null,
            "min_width": null,
            "object_fit": null,
            "object_position": null,
            "order": null,
            "overflow": null,
            "overflow_x": null,
            "overflow_y": null,
            "padding": null,
            "right": null,
            "top": null,
            "visibility": null,
            "width": null
          }
        },
        "dcae9c64c02b4e399f9c4a451152640f": {
          "model_module": "@jupyter-widgets/base",
          "model_name": "LayoutModel",
          "model_module_version": "1.2.0",
          "state": {
            "_model_module": "@jupyter-widgets/base",
            "_model_module_version": "1.2.0",
            "_model_name": "LayoutModel",
            "_view_count": null,
            "_view_module": "@jupyter-widgets/base",
            "_view_module_version": "1.2.0",
            "_view_name": "LayoutView",
            "align_content": null,
            "align_items": null,
            "align_self": null,
            "border": null,
            "bottom": null,
            "display": null,
            "flex": null,
            "flex_flow": null,
            "grid_area": null,
            "grid_auto_columns": null,
            "grid_auto_flow": null,
            "grid_auto_rows": null,
            "grid_column": null,
            "grid_gap": null,
            "grid_row": null,
            "grid_template_areas": null,
            "grid_template_columns": null,
            "grid_template_rows": null,
            "height": null,
            "justify_content": null,
            "justify_items": null,
            "left": null,
            "margin": null,
            "max_height": null,
            "max_width": null,
            "min_height": null,
            "min_width": null,
            "object_fit": null,
            "object_position": null,
            "order": null,
            "overflow": null,
            "overflow_x": null,
            "overflow_y": null,
            "padding": null,
            "right": null,
            "top": null,
            "visibility": null,
            "width": null
          }
        },
        "2e98d46a5013437683b00c63ae17b6fb": {
          "model_module": "@jupyter-widgets/controls",
          "model_name": "DescriptionStyleModel",
          "model_module_version": "1.5.0",
          "state": {
            "_model_module": "@jupyter-widgets/controls",
            "_model_module_version": "1.5.0",
            "_model_name": "DescriptionStyleModel",
            "_view_count": null,
            "_view_module": "@jupyter-widgets/base",
            "_view_module_version": "1.2.0",
            "_view_name": "StyleView",
            "description_width": ""
          }
        },
        "c489e23acf044987830de2f07fe3f205": {
          "model_module": "@jupyter-widgets/base",
          "model_name": "LayoutModel",
          "model_module_version": "1.2.0",
          "state": {
            "_model_module": "@jupyter-widgets/base",
            "_model_module_version": "1.2.0",
            "_model_name": "LayoutModel",
            "_view_count": null,
            "_view_module": "@jupyter-widgets/base",
            "_view_module_version": "1.2.0",
            "_view_name": "LayoutView",
            "align_content": null,
            "align_items": null,
            "align_self": null,
            "border": null,
            "bottom": null,
            "display": null,
            "flex": null,
            "flex_flow": null,
            "grid_area": null,
            "grid_auto_columns": null,
            "grid_auto_flow": null,
            "grid_auto_rows": null,
            "grid_column": null,
            "grid_gap": null,
            "grid_row": null,
            "grid_template_areas": null,
            "grid_template_columns": null,
            "grid_template_rows": null,
            "height": null,
            "justify_content": null,
            "justify_items": null,
            "left": null,
            "margin": null,
            "max_height": null,
            "max_width": null,
            "min_height": null,
            "min_width": null,
            "object_fit": null,
            "object_position": null,
            "order": null,
            "overflow": null,
            "overflow_x": null,
            "overflow_y": null,
            "padding": null,
            "right": null,
            "top": null,
            "visibility": null,
            "width": null
          }
        },
        "3990929a878a4e35a2c32fa8dc816451": {
          "model_module": "@jupyter-widgets/controls",
          "model_name": "ProgressStyleModel",
          "model_module_version": "1.5.0",
          "state": {
            "_model_module": "@jupyter-widgets/controls",
            "_model_module_version": "1.5.0",
            "_model_name": "ProgressStyleModel",
            "_view_count": null,
            "_view_module": "@jupyter-widgets/base",
            "_view_module_version": "1.2.0",
            "_view_name": "StyleView",
            "bar_color": null,
            "description_width": ""
          }
        },
        "6f8821cc25a4422e84212c2d7c765df2": {
          "model_module": "@jupyter-widgets/base",
          "model_name": "LayoutModel",
          "model_module_version": "1.2.0",
          "state": {
            "_model_module": "@jupyter-widgets/base",
            "_model_module_version": "1.2.0",
            "_model_name": "LayoutModel",
            "_view_count": null,
            "_view_module": "@jupyter-widgets/base",
            "_view_module_version": "1.2.0",
            "_view_name": "LayoutView",
            "align_content": null,
            "align_items": null,
            "align_self": null,
            "border": null,
            "bottom": null,
            "display": null,
            "flex": null,
            "flex_flow": null,
            "grid_area": null,
            "grid_auto_columns": null,
            "grid_auto_flow": null,
            "grid_auto_rows": null,
            "grid_column": null,
            "grid_gap": null,
            "grid_row": null,
            "grid_template_areas": null,
            "grid_template_columns": null,
            "grid_template_rows": null,
            "height": null,
            "justify_content": null,
            "justify_items": null,
            "left": null,
            "margin": null,
            "max_height": null,
            "max_width": null,
            "min_height": null,
            "min_width": null,
            "object_fit": null,
            "object_position": null,
            "order": null,
            "overflow": null,
            "overflow_x": null,
            "overflow_y": null,
            "padding": null,
            "right": null,
            "top": null,
            "visibility": null,
            "width": null
          }
        },
        "9d6ff8eac1f34ba782d936bb2eafc300": {
          "model_module": "@jupyter-widgets/controls",
          "model_name": "DescriptionStyleModel",
          "model_module_version": "1.5.0",
          "state": {
            "_model_module": "@jupyter-widgets/controls",
            "_model_module_version": "1.5.0",
            "_model_name": "DescriptionStyleModel",
            "_view_count": null,
            "_view_module": "@jupyter-widgets/base",
            "_view_module_version": "1.2.0",
            "_view_name": "StyleView",
            "description_width": ""
          }
        },
        "4fa2b80cb2bf41d0b16cce417dd61b1e": {
          "model_module": "@jupyter-widgets/controls",
          "model_name": "VBoxModel",
          "model_module_version": "1.5.0",
          "state": {
            "_dom_classes": [
              "widget-interact"
            ],
            "_model_module": "@jupyter-widgets/controls",
            "_model_module_version": "1.5.0",
            "_model_name": "VBoxModel",
            "_view_count": null,
            "_view_module": "@jupyter-widgets/controls",
            "_view_module_version": "1.5.0",
            "_view_name": "VBoxView",
            "box_style": "",
            "children": [
              "IPY_MODEL_89c771302ab84d30b390803fff9636af",
              "IPY_MODEL_2bdc031d1ad84535af826aab44a9ec57"
            ],
            "layout": "IPY_MODEL_6278b1e0820f48e099f31ce58e198b03"
          }
        },
        "89c771302ab84d30b390803fff9636af": {
          "model_module": "@jupyter-widgets/controls",
          "model_name": "ToggleButtonsModel",
          "model_module_version": "1.5.0",
          "state": {
            "_dom_classes": [],
            "_model_module": "@jupyter-widgets/controls",
            "_model_module_version": "1.5.0",
            "_model_name": "ToggleButtonsModel",
            "_options_labels": [
              "Pipeline Plot",
              "Hyperparameters",
              "AUC",
              "Confusion Matrix",
              "Threshold",
              "Precision Recall",
              "Prediction Error",
              "Class Report",
              "Feature Selection",
              "Learning Curve",
              "Manifold Learning",
              "Calibration Curve",
              "Validation Curve",
              "Dimensions",
              "Feature Importance",
              "Feature Importance (All)",
              "Decision Boundary",
              "Lift Chart",
              "Gain Chart",
              "Decision Tree",
              "KS Statistic Plot"
            ],
            "_view_count": null,
            "_view_module": "@jupyter-widgets/controls",
            "_view_module_version": "1.5.0",
            "_view_name": "ToggleButtonsView",
            "button_style": "",
            "description": "Plot Type:",
            "description_tooltip": null,
            "disabled": false,
            "icons": [
              ""
            ],
            "index": 18,
            "layout": "IPY_MODEL_de7f3715fc514e1890e171a8a32d0946",
            "style": "IPY_MODEL_f141cff1ac81432494939fe17891ed89",
            "tooltips": []
          }
        },
        "2bdc031d1ad84535af826aab44a9ec57": {
          "model_module": "@jupyter-widgets/output",
          "model_name": "OutputModel",
          "model_module_version": "1.0.0",
          "state": {
            "_dom_classes": [],
            "_model_module": "@jupyter-widgets/output",
            "_model_module_version": "1.0.0",
            "_model_name": "OutputModel",
            "_view_count": null,
            "_view_module": "@jupyter-widgets/output",
            "_view_module_version": "1.0.0",
            "_view_name": "OutputView",
            "layout": "IPY_MODEL_7980c0f09e44443ba1c8a60e339487fc",
            "msg_id": "",
            "outputs": [
              {
                "output_type": "display_data",
                "data": {
                  "text/plain": "<Figure size 1000x600 with 1 Axes>",
                  "image/png": "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\n"
                },
                "metadata": {
                  "needs_background": "light"
                }
              }
            ]
          }
        },
        "6278b1e0820f48e099f31ce58e198b03": {
          "model_module": "@jupyter-widgets/base",
          "model_name": "LayoutModel",
          "model_module_version": "1.2.0",
          "state": {
            "_model_module": "@jupyter-widgets/base",
            "_model_module_version": "1.2.0",
            "_model_name": "LayoutModel",
            "_view_count": null,
            "_view_module": "@jupyter-widgets/base",
            "_view_module_version": "1.2.0",
            "_view_name": "LayoutView",
            "align_content": null,
            "align_items": null,
            "align_self": null,
            "border": null,
            "bottom": null,
            "display": null,
            "flex": null,
            "flex_flow": null,
            "grid_area": null,
            "grid_auto_columns": null,
            "grid_auto_flow": null,
            "grid_auto_rows": null,
            "grid_column": null,
            "grid_gap": null,
            "grid_row": null,
            "grid_template_areas": null,
            "grid_template_columns": null,
            "grid_template_rows": null,
            "height": null,
            "justify_content": null,
            "justify_items": null,
            "left": null,
            "margin": null,
            "max_height": null,
            "max_width": null,
            "min_height": null,
            "min_width": null,
            "object_fit": null,
            "object_position": null,
            "order": null,
            "overflow": null,
            "overflow_x": null,
            "overflow_y": null,
            "padding": null,
            "right": null,
            "top": null,
            "visibility": null,
            "width": null
          }
        },
        "de7f3715fc514e1890e171a8a32d0946": {
          "model_module": "@jupyter-widgets/base",
          "model_name": "LayoutModel",
          "model_module_version": "1.2.0",
          "state": {
            "_model_module": "@jupyter-widgets/base",
            "_model_module_version": "1.2.0",
            "_model_name": "LayoutModel",
            "_view_count": null,
            "_view_module": "@jupyter-widgets/base",
            "_view_module_version": "1.2.0",
            "_view_name": "LayoutView",
            "align_content": null,
            "align_items": null,
            "align_self": null,
            "border": null,
            "bottom": null,
            "display": null,
            "flex": null,
            "flex_flow": null,
            "grid_area": null,
            "grid_auto_columns": null,
            "grid_auto_flow": null,
            "grid_auto_rows": null,
            "grid_column": null,
            "grid_gap": null,
            "grid_row": null,
            "grid_template_areas": null,
            "grid_template_columns": null,
            "grid_template_rows": null,
            "height": null,
            "justify_content": null,
            "justify_items": null,
            "left": null,
            "margin": null,
            "max_height": null,
            "max_width": null,
            "min_height": null,
            "min_width": null,
            "object_fit": null,
            "object_position": null,
            "order": null,
            "overflow": null,
            "overflow_x": null,
            "overflow_y": null,
            "padding": null,
            "right": null,
            "top": null,
            "visibility": null,
            "width": null
          }
        },
        "f141cff1ac81432494939fe17891ed89": {
          "model_module": "@jupyter-widgets/controls",
          "model_name": "ToggleButtonsStyleModel",
          "model_module_version": "1.5.0",
          "state": {
            "_model_module": "@jupyter-widgets/controls",
            "_model_module_version": "1.5.0",
            "_model_name": "ToggleButtonsStyleModel",
            "_view_count": null,
            "_view_module": "@jupyter-widgets/base",
            "_view_module_version": "1.2.0",
            "_view_name": "StyleView",
            "button_width": "",
            "description_width": "",
            "font_weight": ""
          }
        },
        "7980c0f09e44443ba1c8a60e339487fc": {
          "model_module": "@jupyter-widgets/base",
          "model_name": "LayoutModel",
          "model_module_version": "1.2.0",
          "state": {
            "_model_module": "@jupyter-widgets/base",
            "_model_module_version": "1.2.0",
            "_model_name": "LayoutModel",
            "_view_count": null,
            "_view_module": "@jupyter-widgets/base",
            "_view_module_version": "1.2.0",
            "_view_name": "LayoutView",
            "align_content": null,
            "align_items": null,
            "align_self": null,
            "border": null,
            "bottom": null,
            "display": null,
            "flex": null,
            "flex_flow": null,
            "grid_area": null,
            "grid_auto_columns": null,
            "grid_auto_flow": null,
            "grid_auto_rows": null,
            "grid_column": null,
            "grid_gap": null,
            "grid_row": null,
            "grid_template_areas": null,
            "grid_template_columns": null,
            "grid_template_rows": null,
            "height": null,
            "justify_content": null,
            "justify_items": null,
            "left": null,
            "margin": null,
            "max_height": null,
            "max_width": null,
            "min_height": null,
            "min_width": null,
            "object_fit": null,
            "object_position": null,
            "order": null,
            "overflow": null,
            "overflow_x": null,
            "overflow_y": null,
            "padding": null,
            "right": null,
            "top": null,
            "visibility": null,
            "width": null
          }
        }
      }
    }
  },
  "nbformat": 4,
  "nbformat_minor": 0
}